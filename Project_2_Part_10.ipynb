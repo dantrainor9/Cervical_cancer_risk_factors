{
  "cells": [
    {
      "cell_type": "markdown",
      "metadata": {
        "id": "view-in-github",
        "colab_type": "text"
      },
      "source": [
        "<a href=\"https://colab.research.google.com/github/dantrainor9/Cervical_cancer_risk_factors/blob/main/Project_2_Part_10.ipynb\" target=\"_parent\"><img src=\"https://colab.research.google.com/assets/colab-badge.svg\" alt=\"Open In Colab\"/></a>"
      ]
    },
    {
      "cell_type": "markdown",
      "source": [
        "This iteration is exploring the Schiller test. The Schiller test consists of an application of iodine to the cervix. Healthy cell will be stained brown by the iodine, while cancerous and pre-cancerous cells will not absorb the stain and will appear unchanged. This examination, similar to the colposcopy, is typically used as an initial evaluation before examining the cells more closely via biopsy.\n",
        "\n",
        "Source: http://www.whonamedit.com/synd.cfm/2830.html"
      ],
      "metadata": {
        "id": "BnBG6ARuhgR3"
      }
    },
    {
      "cell_type": "code",
      "execution_count": 2,
      "metadata": {
        "colab": {
          "base_uri": "https://localhost:8080/"
        },
        "id": "sw4jUrv-1kSb",
        "outputId": "9fc453a8-32c2-4ac3-c7c5-a94eb10d9ca6"
      },
      "outputs": [
        {
          "output_type": "stream",
          "name": "stdout",
          "text": [
            "Mounted at /content/drive\n"
          ]
        }
      ],
      "source": [
        "#mounting drive\n",
        "from google.colab import drive\n",
        "drive.mount('/content/drive')"
      ]
    },
    {
      "cell_type": "code",
      "execution_count": 3,
      "metadata": {
        "id": "adS4aQuie2Va"
      },
      "outputs": [],
      "source": [
        "#imports\n",
        "import pandas as pd\n",
        "import numpy as np\n",
        "import seaborn as sns\n",
        "import matplotlib.pyplot as plt\n",
        "from sklearn.preprocessing import StandardScaler\n",
        "from sklearn.impute import SimpleImputer\n",
        "from sklearn.model_selection import train_test_split, GridSearchCV\n",
        "from sklearn.pipeline import make_pipeline\n",
        "from sklearn.compose import make_column_transformer\n",
        "from sklearn.decomposition import PCA\n",
        "from xgboost import XGBClassifier\n",
        "from sklearn.ensemble import RandomForestClassifier\n",
        "from lightgbm import LGBMClassifier\n",
        "from sklearn.metrics import accuracy_score, classification_report"
      ]
    },
    {
      "cell_type": "code",
      "execution_count": 4,
      "metadata": {
        "colab": {
          "base_uri": "https://localhost:8080/",
          "height": 369
        },
        "id": "ic8SUgQDfwZG",
        "outputId": "61cf0957-7e4d-478b-f760-a9ae8798c53f"
      },
      "outputs": [
        {
          "output_type": "execute_result",
          "data": {
            "text/plain": [
              "   Age Number of sexual partners First sexual intercourse Num of pregnancies  \\\n",
              "0   18                       4.0                     15.0                1.0   \n",
              "1   15                       1.0                     14.0                1.0   \n",
              "2   34                       1.0                        ?                1.0   \n",
              "3   52                       5.0                     16.0                4.0   \n",
              "4   46                       3.0                     21.0                4.0   \n",
              "\n",
              "  Smokes Smokes (years) Smokes (packs/year) Hormonal Contraceptives  \\\n",
              "0    0.0            0.0                 0.0                     0.0   \n",
              "1    0.0            0.0                 0.0                     0.0   \n",
              "2    0.0            0.0                 0.0                     0.0   \n",
              "3    1.0           37.0                37.0                     1.0   \n",
              "4    0.0            0.0                 0.0                     1.0   \n",
              "\n",
              "  Hormonal Contraceptives (years)  IUD  ... STDs: Time since first diagnosis  \\\n",
              "0                             0.0  0.0  ...                                ?   \n",
              "1                             0.0  0.0  ...                                ?   \n",
              "2                             0.0  0.0  ...                                ?   \n",
              "3                             3.0  0.0  ...                                ?   \n",
              "4                            15.0  0.0  ...                                ?   \n",
              "\n",
              "  STDs: Time since last diagnosis Dx:Cancer Dx:CIN Dx:HPV Dx Hinselmann  \\\n",
              "0                               ?         0      0      0  0          0   \n",
              "1                               ?         0      0      0  0          0   \n",
              "2                               ?         0      0      0  0          0   \n",
              "3                               ?         1      0      1  0          0   \n",
              "4                               ?         0      0      0  0          0   \n",
              "\n",
              "  Schiller Citology Biopsy  \n",
              "0        0        0      0  \n",
              "1        0        0      0  \n",
              "2        0        0      0  \n",
              "3        0        0      0  \n",
              "4        0        0      0  \n",
              "\n",
              "[5 rows x 36 columns]"
            ],
            "text/html": [
              "\n",
              "  <div id=\"df-590c497d-e256-4620-b379-b9e0512f1a63\">\n",
              "    <div class=\"colab-df-container\">\n",
              "      <div>\n",
              "<style scoped>\n",
              "    .dataframe tbody tr th:only-of-type {\n",
              "        vertical-align: middle;\n",
              "    }\n",
              "\n",
              "    .dataframe tbody tr th {\n",
              "        vertical-align: top;\n",
              "    }\n",
              "\n",
              "    .dataframe thead th {\n",
              "        text-align: right;\n",
              "    }\n",
              "</style>\n",
              "<table border=\"1\" class=\"dataframe\">\n",
              "  <thead>\n",
              "    <tr style=\"text-align: right;\">\n",
              "      <th></th>\n",
              "      <th>Age</th>\n",
              "      <th>Number of sexual partners</th>\n",
              "      <th>First sexual intercourse</th>\n",
              "      <th>Num of pregnancies</th>\n",
              "      <th>Smokes</th>\n",
              "      <th>Smokes (years)</th>\n",
              "      <th>Smokes (packs/year)</th>\n",
              "      <th>Hormonal Contraceptives</th>\n",
              "      <th>Hormonal Contraceptives (years)</th>\n",
              "      <th>IUD</th>\n",
              "      <th>...</th>\n",
              "      <th>STDs: Time since first diagnosis</th>\n",
              "      <th>STDs: Time since last diagnosis</th>\n",
              "      <th>Dx:Cancer</th>\n",
              "      <th>Dx:CIN</th>\n",
              "      <th>Dx:HPV</th>\n",
              "      <th>Dx</th>\n",
              "      <th>Hinselmann</th>\n",
              "      <th>Schiller</th>\n",
              "      <th>Citology</th>\n",
              "      <th>Biopsy</th>\n",
              "    </tr>\n",
              "  </thead>\n",
              "  <tbody>\n",
              "    <tr>\n",
              "      <th>0</th>\n",
              "      <td>18</td>\n",
              "      <td>4.0</td>\n",
              "      <td>15.0</td>\n",
              "      <td>1.0</td>\n",
              "      <td>0.0</td>\n",
              "      <td>0.0</td>\n",
              "      <td>0.0</td>\n",
              "      <td>0.0</td>\n",
              "      <td>0.0</td>\n",
              "      <td>0.0</td>\n",
              "      <td>...</td>\n",
              "      <td>?</td>\n",
              "      <td>?</td>\n",
              "      <td>0</td>\n",
              "      <td>0</td>\n",
              "      <td>0</td>\n",
              "      <td>0</td>\n",
              "      <td>0</td>\n",
              "      <td>0</td>\n",
              "      <td>0</td>\n",
              "      <td>0</td>\n",
              "    </tr>\n",
              "    <tr>\n",
              "      <th>1</th>\n",
              "      <td>15</td>\n",
              "      <td>1.0</td>\n",
              "      <td>14.0</td>\n",
              "      <td>1.0</td>\n",
              "      <td>0.0</td>\n",
              "      <td>0.0</td>\n",
              "      <td>0.0</td>\n",
              "      <td>0.0</td>\n",
              "      <td>0.0</td>\n",
              "      <td>0.0</td>\n",
              "      <td>...</td>\n",
              "      <td>?</td>\n",
              "      <td>?</td>\n",
              "      <td>0</td>\n",
              "      <td>0</td>\n",
              "      <td>0</td>\n",
              "      <td>0</td>\n",
              "      <td>0</td>\n",
              "      <td>0</td>\n",
              "      <td>0</td>\n",
              "      <td>0</td>\n",
              "    </tr>\n",
              "    <tr>\n",
              "      <th>2</th>\n",
              "      <td>34</td>\n",
              "      <td>1.0</td>\n",
              "      <td>?</td>\n",
              "      <td>1.0</td>\n",
              "      <td>0.0</td>\n",
              "      <td>0.0</td>\n",
              "      <td>0.0</td>\n",
              "      <td>0.0</td>\n",
              "      <td>0.0</td>\n",
              "      <td>0.0</td>\n",
              "      <td>...</td>\n",
              "      <td>?</td>\n",
              "      <td>?</td>\n",
              "      <td>0</td>\n",
              "      <td>0</td>\n",
              "      <td>0</td>\n",
              "      <td>0</td>\n",
              "      <td>0</td>\n",
              "      <td>0</td>\n",
              "      <td>0</td>\n",
              "      <td>0</td>\n",
              "    </tr>\n",
              "    <tr>\n",
              "      <th>3</th>\n",
              "      <td>52</td>\n",
              "      <td>5.0</td>\n",
              "      <td>16.0</td>\n",
              "      <td>4.0</td>\n",
              "      <td>1.0</td>\n",
              "      <td>37.0</td>\n",
              "      <td>37.0</td>\n",
              "      <td>1.0</td>\n",
              "      <td>3.0</td>\n",
              "      <td>0.0</td>\n",
              "      <td>...</td>\n",
              "      <td>?</td>\n",
              "      <td>?</td>\n",
              "      <td>1</td>\n",
              "      <td>0</td>\n",
              "      <td>1</td>\n",
              "      <td>0</td>\n",
              "      <td>0</td>\n",
              "      <td>0</td>\n",
              "      <td>0</td>\n",
              "      <td>0</td>\n",
              "    </tr>\n",
              "    <tr>\n",
              "      <th>4</th>\n",
              "      <td>46</td>\n",
              "      <td>3.0</td>\n",
              "      <td>21.0</td>\n",
              "      <td>4.0</td>\n",
              "      <td>0.0</td>\n",
              "      <td>0.0</td>\n",
              "      <td>0.0</td>\n",
              "      <td>1.0</td>\n",
              "      <td>15.0</td>\n",
              "      <td>0.0</td>\n",
              "      <td>...</td>\n",
              "      <td>?</td>\n",
              "      <td>?</td>\n",
              "      <td>0</td>\n",
              "      <td>0</td>\n",
              "      <td>0</td>\n",
              "      <td>0</td>\n",
              "      <td>0</td>\n",
              "      <td>0</td>\n",
              "      <td>0</td>\n",
              "      <td>0</td>\n",
              "    </tr>\n",
              "  </tbody>\n",
              "</table>\n",
              "<p>5 rows × 36 columns</p>\n",
              "</div>\n",
              "      <button class=\"colab-df-convert\" onclick=\"convertToInteractive('df-590c497d-e256-4620-b379-b9e0512f1a63')\"\n",
              "              title=\"Convert this dataframe to an interactive table.\"\n",
              "              style=\"display:none;\">\n",
              "        \n",
              "  <svg xmlns=\"http://www.w3.org/2000/svg\" height=\"24px\"viewBox=\"0 0 24 24\"\n",
              "       width=\"24px\">\n",
              "    <path d=\"M0 0h24v24H0V0z\" fill=\"none\"/>\n",
              "    <path d=\"M18.56 5.44l.94 2.06.94-2.06 2.06-.94-2.06-.94-.94-2.06-.94 2.06-2.06.94zm-11 1L8.5 8.5l.94-2.06 2.06-.94-2.06-.94L8.5 2.5l-.94 2.06-2.06.94zm10 10l.94 2.06.94-2.06 2.06-.94-2.06-.94-.94-2.06-.94 2.06-2.06.94z\"/><path d=\"M17.41 7.96l-1.37-1.37c-.4-.4-.92-.59-1.43-.59-.52 0-1.04.2-1.43.59L10.3 9.45l-7.72 7.72c-.78.78-.78 2.05 0 2.83L4 21.41c.39.39.9.59 1.41.59.51 0 1.02-.2 1.41-.59l7.78-7.78 2.81-2.81c.8-.78.8-2.07 0-2.86zM5.41 20L4 18.59l7.72-7.72 1.47 1.35L5.41 20z\"/>\n",
              "  </svg>\n",
              "      </button>\n",
              "      \n",
              "  <style>\n",
              "    .colab-df-container {\n",
              "      display:flex;\n",
              "      flex-wrap:wrap;\n",
              "      gap: 12px;\n",
              "    }\n",
              "\n",
              "    .colab-df-convert {\n",
              "      background-color: #E8F0FE;\n",
              "      border: none;\n",
              "      border-radius: 50%;\n",
              "      cursor: pointer;\n",
              "      display: none;\n",
              "      fill: #1967D2;\n",
              "      height: 32px;\n",
              "      padding: 0 0 0 0;\n",
              "      width: 32px;\n",
              "    }\n",
              "\n",
              "    .colab-df-convert:hover {\n",
              "      background-color: #E2EBFA;\n",
              "      box-shadow: 0px 1px 2px rgba(60, 64, 67, 0.3), 0px 1px 3px 1px rgba(60, 64, 67, 0.15);\n",
              "      fill: #174EA6;\n",
              "    }\n",
              "\n",
              "    [theme=dark] .colab-df-convert {\n",
              "      background-color: #3B4455;\n",
              "      fill: #D2E3FC;\n",
              "    }\n",
              "\n",
              "    [theme=dark] .colab-df-convert:hover {\n",
              "      background-color: #434B5C;\n",
              "      box-shadow: 0px 1px 3px 1px rgba(0, 0, 0, 0.15);\n",
              "      filter: drop-shadow(0px 1px 2px rgba(0, 0, 0, 0.3));\n",
              "      fill: #FFFFFF;\n",
              "    }\n",
              "  </style>\n",
              "\n",
              "      <script>\n",
              "        const buttonEl =\n",
              "          document.querySelector('#df-590c497d-e256-4620-b379-b9e0512f1a63 button.colab-df-convert');\n",
              "        buttonEl.style.display =\n",
              "          google.colab.kernel.accessAllowed ? 'block' : 'none';\n",
              "\n",
              "        async function convertToInteractive(key) {\n",
              "          const element = document.querySelector('#df-590c497d-e256-4620-b379-b9e0512f1a63');\n",
              "          const dataTable =\n",
              "            await google.colab.kernel.invokeFunction('convertToInteractive',\n",
              "                                                     [key], {});\n",
              "          if (!dataTable) return;\n",
              "\n",
              "          const docLinkHtml = 'Like what you see? Visit the ' +\n",
              "            '<a target=\"_blank\" href=https://colab.research.google.com/notebooks/data_table.ipynb>data table notebook</a>'\n",
              "            + ' to learn more about interactive tables.';\n",
              "          element.innerHTML = '';\n",
              "          dataTable['output_type'] = 'display_data';\n",
              "          await google.colab.output.renderOutput(dataTable, element);\n",
              "          const docLink = document.createElement('div');\n",
              "          docLink.innerHTML = docLinkHtml;\n",
              "          element.appendChild(docLink);\n",
              "        }\n",
              "      </script>\n",
              "    </div>\n",
              "  </div>\n",
              "  "
            ]
          },
          "metadata": {},
          "execution_count": 4
        }
      ],
      "source": [
        "path = '/content/drive/MyDrive/CodingDojo Data Science Bootcamp/07 Week 7 Logistic Regression and Regularization/risk_factors_cervical_cancer.csv'\n",
        "df = pd.read_csv(path)\n",
        "df.head() \n",
        "#checking the first 5 rows in the dataset to make sure it loaded correctly"
      ]
    },
    {
      "cell_type": "code",
      "execution_count": 5,
      "metadata": {
        "colab": {
          "base_uri": "https://localhost:8080/"
        },
        "id": "xs7nmRcshrU1",
        "outputId": "5e6711a0-ee30-49d8-d4f7-ac2e0b05fdc7"
      },
      "outputs": [
        {
          "output_type": "execute_result",
          "data": {
            "text/plain": [
              "(858, 36)"
            ]
          },
          "metadata": {},
          "execution_count": 5
        }
      ],
      "source": [
        "df.shape"
      ]
    },
    {
      "cell_type": "markdown",
      "metadata": {
        "id": "y-N260jBh2jH"
      },
      "source": [
        "Multiple targets are present in the above dataset gathered from the UCI machine learning repository, as multiple diagnostic tools were used. However, as 'Biopsy' is the most common way of diagnosing cancer in the United States, I will be using that as my primary target after comparing the performance of the different diagnostic tests. \n",
        "This is a classification problem with 32 features.\n",
        "There are 858 rows of data. \n",
        "I anticipate problems with missing data, as participants were not required to answer every question due to the sensitive nature of the survey."
      ]
    },
    {
      "cell_type": "code",
      "execution_count": 6,
      "metadata": {
        "id": "zkiTI90lvGpn"
      },
      "outputs": [],
      "source": [
        "df = df.replace('?', np.nan) \n",
        "#replacing question marks in the dataset with np.nan so I can impute using SimpleImputer"
      ]
    },
    {
      "cell_type": "code",
      "execution_count": 7,
      "metadata": {
        "colab": {
          "base_uri": "https://localhost:8080/"
        },
        "id": "CC9JdL6nwkLf",
        "outputId": "ef2fbdfc-74c0-4639-e28e-cf7cc52aa6bc"
      },
      "outputs": [
        {
          "output_type": "execute_result",
          "data": {
            "text/plain": [
              "Age                                     0\n",
              "Number of sexual partners              26\n",
              "First sexual intercourse                7\n",
              "Num of pregnancies                     56\n",
              "Smokes                                 13\n",
              "Smokes (years)                         13\n",
              "Smokes (packs/year)                    13\n",
              "Hormonal Contraceptives               108\n",
              "Hormonal Contraceptives (years)       108\n",
              "IUD                                   117\n",
              "IUD (years)                           117\n",
              "STDs                                  105\n",
              "STDs (number)                         105\n",
              "STDs:condylomatosis                   105\n",
              "STDs:cervical condylomatosis          105\n",
              "STDs:vaginal condylomatosis           105\n",
              "STDs:vulvo-perineal condylomatosis    105\n",
              "STDs:syphilis                         105\n",
              "STDs:pelvic inflammatory disease      105\n",
              "STDs:genital herpes                   105\n",
              "STDs:molluscum contagiosum            105\n",
              "STDs:AIDS                             105\n",
              "STDs:HIV                              105\n",
              "STDs:Hepatitis B                      105\n",
              "STDs:HPV                              105\n",
              "STDs: Number of diagnosis               0\n",
              "STDs: Time since first diagnosis      787\n",
              "STDs: Time since last diagnosis       787\n",
              "Dx:Cancer                               0\n",
              "Dx:CIN                                  0\n",
              "Dx:HPV                                  0\n",
              "Dx                                      0\n",
              "Hinselmann                              0\n",
              "Schiller                                0\n",
              "Citology                                0\n",
              "Biopsy                                  0\n",
              "dtype: int64"
            ]
          },
          "metadata": {},
          "execution_count": 7
        }
      ],
      "source": [
        "df.isna().sum() \n",
        "#checking for null values"
      ]
    },
    {
      "cell_type": "code",
      "execution_count": 8,
      "metadata": {
        "id": "UyoIY6uI1SKP"
      },
      "outputs": [],
      "source": [
        "X = df[['Age', \n",
        "        'Number of sexual partners', \n",
        "        'First sexual intercourse', \n",
        "        'Num of pregnancies', \n",
        "        'Smokes', \n",
        "        'Smokes (years)', \n",
        "        'Smokes (packs/year)', \n",
        "        'Hormonal Contraceptives', \n",
        "        'Hormonal Contraceptives (years)', \n",
        "        'IUD', \n",
        "        'IUD (years)', \n",
        "        'STDs', \n",
        "        'STDs (number)', \n",
        "        'STDs:condylomatosis', \n",
        "        'STDs:vaginal condylomatosis', \n",
        "        'STDs:vulvo-perineal condylomatosis', \n",
        "        'STDs:syphilis', \n",
        "        'STDs:pelvic inflammatory disease', \n",
        "        'STDs:genital herpes', \n",
        "        'STDs:molluscum contagiosum', \n",
        "        'STDs:HIV',  \n",
        "        'STDs:HPV', \n",
        "        'STDs: Number of diagnosis', \n",
        "        'Dx:Cancer', \n",
        "        'Dx:CIN', \n",
        "        'Dx:HPV', \n",
        "        'Dx']]\n",
        "y = df['Schiller']\n",
        "#excluding 2 columns as features, time since first and last diagnosis of STDs\n",
        "#excluding 3 columns as all participants answered the same, STDs: cervical condylomatosis, hepatitis B, and AIDS"
      ]
    },
    {
      "cell_type": "code",
      "execution_count": 9,
      "metadata": {
        "id": "nTV7yJZi2_1z"
      },
      "outputs": [],
      "source": [
        "X_train, X_test, y_train, y_test = train_test_split(X, y, random_state=42)"
      ]
    },
    {
      "cell_type": "code",
      "execution_count": 10,
      "metadata": {
        "colab": {
          "base_uri": "https://localhost:8080/",
          "height": 540
        },
        "id": "vOXNxzB5O_J7",
        "outputId": "81b0d74e-392b-4452-a522-752036adb0b0"
      },
      "outputs": [
        {
          "output_type": "execute_result",
          "data": {
            "text/plain": [
              "     Age Number of sexual partners First sexual intercourse  \\\n",
              "434   20                       3.0                     17.0   \n",
              "204   21                       1.0                     20.0   \n",
              "590   17                       2.0                     15.0   \n",
              "584   30                       2.0                     18.0   \n",
              "838   35                       3.0                     18.0   \n",
              "..   ...                       ...                      ...   \n",
              "71    34                       NaN                      NaN   \n",
              "106   30                       4.0                     16.0   \n",
              "270   21                       1.0                     17.0   \n",
              "435   17                       2.0                     15.0   \n",
              "102   31                       3.0                     18.0   \n",
              "\n",
              "    Num of pregnancies Smokes Smokes (years) Smokes (packs/year)  \\\n",
              "434                2.0    0.0            0.0                 0.0   \n",
              "204                2.0    0.0            0.0                 0.0   \n",
              "590                2.0    0.0            0.0                 0.0   \n",
              "584                1.0    0.0            0.0                 0.0   \n",
              "838                3.0    0.0            0.0                 0.0   \n",
              "..                 ...    ...            ...                 ...   \n",
              "71                 3.0    0.0            0.0                 0.0   \n",
              "106                2.0    0.0            0.0                 0.0   \n",
              "270                1.0    0.0            0.0                 0.0   \n",
              "435                1.0    0.0            0.0                 0.0   \n",
              "102                2.0    0.0            0.0                 0.0   \n",
              "\n",
              "    Hormonal Contraceptives Hormonal Contraceptives (years)  IUD  ...  \\\n",
              "434                     1.0                            0.25  0.0  ...   \n",
              "204                     0.0                             0.0  0.0  ...   \n",
              "590                     0.0                             0.0  0.0  ...   \n",
              "584                     0.0                             0.0  0.0  ...   \n",
              "838                     1.0                             5.0  0.0  ...   \n",
              "..                      ...                             ...  ...  ...   \n",
              "71                      NaN                             NaN  NaN  ...   \n",
              "106                     1.0                            13.0  0.0  ...   \n",
              "270                     1.0                             1.0  0.0  ...   \n",
              "435                     0.0                             0.0  0.0  ...   \n",
              "102                     NaN                             NaN  NaN  ...   \n",
              "\n",
              "    STDs:pelvic inflammatory disease STDs:genital herpes  \\\n",
              "434                              0.0                 0.0   \n",
              "204                              0.0                 0.0   \n",
              "590                              0.0                 0.0   \n",
              "584                              0.0                 0.0   \n",
              "838                              0.0                 0.0   \n",
              "..                               ...                 ...   \n",
              "71                               NaN                 NaN   \n",
              "106                              0.0                 0.0   \n",
              "270                              0.0                 0.0   \n",
              "435                              0.0                 0.0   \n",
              "102                              NaN                 NaN   \n",
              "\n",
              "    STDs:molluscum contagiosum STDs:HIV STDs:HPV STDs: Number of diagnosis  \\\n",
              "434                        0.0      0.0      0.0                         0   \n",
              "204                        0.0      0.0      0.0                         0   \n",
              "590                        0.0      0.0      0.0                         1   \n",
              "584                        0.0      0.0      0.0                         0   \n",
              "838                        0.0      0.0      0.0                         0   \n",
              "..                         ...      ...      ...                       ...   \n",
              "71                         NaN      NaN      NaN                         0   \n",
              "106                        0.0      0.0      0.0                         0   \n",
              "270                        0.0      0.0      0.0                         0   \n",
              "435                        0.0      0.0      0.0                         0   \n",
              "102                        NaN      NaN      NaN                         0   \n",
              "\n",
              "    Dx:Cancer Dx:CIN Dx:HPV Dx  \n",
              "434         0      0      0  0  \n",
              "204         0      0      0  0  \n",
              "590         0      0      0  0  \n",
              "584         0      0      0  0  \n",
              "838         0      0      0  0  \n",
              "..        ...    ...    ... ..  \n",
              "71          0      0      0  0  \n",
              "106         0      0      0  0  \n",
              "270         0      0      0  0  \n",
              "435         0      0      0  0  \n",
              "102         0      0      0  0  \n",
              "\n",
              "[643 rows x 27 columns]"
            ],
            "text/html": [
              "\n",
              "  <div id=\"df-9f72937a-4532-4574-9448-fcc6b615c2e5\">\n",
              "    <div class=\"colab-df-container\">\n",
              "      <div>\n",
              "<style scoped>\n",
              "    .dataframe tbody tr th:only-of-type {\n",
              "        vertical-align: middle;\n",
              "    }\n",
              "\n",
              "    .dataframe tbody tr th {\n",
              "        vertical-align: top;\n",
              "    }\n",
              "\n",
              "    .dataframe thead th {\n",
              "        text-align: right;\n",
              "    }\n",
              "</style>\n",
              "<table border=\"1\" class=\"dataframe\">\n",
              "  <thead>\n",
              "    <tr style=\"text-align: right;\">\n",
              "      <th></th>\n",
              "      <th>Age</th>\n",
              "      <th>Number of sexual partners</th>\n",
              "      <th>First sexual intercourse</th>\n",
              "      <th>Num of pregnancies</th>\n",
              "      <th>Smokes</th>\n",
              "      <th>Smokes (years)</th>\n",
              "      <th>Smokes (packs/year)</th>\n",
              "      <th>Hormonal Contraceptives</th>\n",
              "      <th>Hormonal Contraceptives (years)</th>\n",
              "      <th>IUD</th>\n",
              "      <th>...</th>\n",
              "      <th>STDs:pelvic inflammatory disease</th>\n",
              "      <th>STDs:genital herpes</th>\n",
              "      <th>STDs:molluscum contagiosum</th>\n",
              "      <th>STDs:HIV</th>\n",
              "      <th>STDs:HPV</th>\n",
              "      <th>STDs: Number of diagnosis</th>\n",
              "      <th>Dx:Cancer</th>\n",
              "      <th>Dx:CIN</th>\n",
              "      <th>Dx:HPV</th>\n",
              "      <th>Dx</th>\n",
              "    </tr>\n",
              "  </thead>\n",
              "  <tbody>\n",
              "    <tr>\n",
              "      <th>434</th>\n",
              "      <td>20</td>\n",
              "      <td>3.0</td>\n",
              "      <td>17.0</td>\n",
              "      <td>2.0</td>\n",
              "      <td>0.0</td>\n",
              "      <td>0.0</td>\n",
              "      <td>0.0</td>\n",
              "      <td>1.0</td>\n",
              "      <td>0.25</td>\n",
              "      <td>0.0</td>\n",
              "      <td>...</td>\n",
              "      <td>0.0</td>\n",
              "      <td>0.0</td>\n",
              "      <td>0.0</td>\n",
              "      <td>0.0</td>\n",
              "      <td>0.0</td>\n",
              "      <td>0</td>\n",
              "      <td>0</td>\n",
              "      <td>0</td>\n",
              "      <td>0</td>\n",
              "      <td>0</td>\n",
              "    </tr>\n",
              "    <tr>\n",
              "      <th>204</th>\n",
              "      <td>21</td>\n",
              "      <td>1.0</td>\n",
              "      <td>20.0</td>\n",
              "      <td>2.0</td>\n",
              "      <td>0.0</td>\n",
              "      <td>0.0</td>\n",
              "      <td>0.0</td>\n",
              "      <td>0.0</td>\n",
              "      <td>0.0</td>\n",
              "      <td>0.0</td>\n",
              "      <td>...</td>\n",
              "      <td>0.0</td>\n",
              "      <td>0.0</td>\n",
              "      <td>0.0</td>\n",
              "      <td>0.0</td>\n",
              "      <td>0.0</td>\n",
              "      <td>0</td>\n",
              "      <td>0</td>\n",
              "      <td>0</td>\n",
              "      <td>0</td>\n",
              "      <td>0</td>\n",
              "    </tr>\n",
              "    <tr>\n",
              "      <th>590</th>\n",
              "      <td>17</td>\n",
              "      <td>2.0</td>\n",
              "      <td>15.0</td>\n",
              "      <td>2.0</td>\n",
              "      <td>0.0</td>\n",
              "      <td>0.0</td>\n",
              "      <td>0.0</td>\n",
              "      <td>0.0</td>\n",
              "      <td>0.0</td>\n",
              "      <td>0.0</td>\n",
              "      <td>...</td>\n",
              "      <td>0.0</td>\n",
              "      <td>0.0</td>\n",
              "      <td>0.0</td>\n",
              "      <td>0.0</td>\n",
              "      <td>0.0</td>\n",
              "      <td>1</td>\n",
              "      <td>0</td>\n",
              "      <td>0</td>\n",
              "      <td>0</td>\n",
              "      <td>0</td>\n",
              "    </tr>\n",
              "    <tr>\n",
              "      <th>584</th>\n",
              "      <td>30</td>\n",
              "      <td>2.0</td>\n",
              "      <td>18.0</td>\n",
              "      <td>1.0</td>\n",
              "      <td>0.0</td>\n",
              "      <td>0.0</td>\n",
              "      <td>0.0</td>\n",
              "      <td>0.0</td>\n",
              "      <td>0.0</td>\n",
              "      <td>0.0</td>\n",
              "      <td>...</td>\n",
              "      <td>0.0</td>\n",
              "      <td>0.0</td>\n",
              "      <td>0.0</td>\n",
              "      <td>0.0</td>\n",
              "      <td>0.0</td>\n",
              "      <td>0</td>\n",
              "      <td>0</td>\n",
              "      <td>0</td>\n",
              "      <td>0</td>\n",
              "      <td>0</td>\n",
              "    </tr>\n",
              "    <tr>\n",
              "      <th>838</th>\n",
              "      <td>35</td>\n",
              "      <td>3.0</td>\n",
              "      <td>18.0</td>\n",
              "      <td>3.0</td>\n",
              "      <td>0.0</td>\n",
              "      <td>0.0</td>\n",
              "      <td>0.0</td>\n",
              "      <td>1.0</td>\n",
              "      <td>5.0</td>\n",
              "      <td>0.0</td>\n",
              "      <td>...</td>\n",
              "      <td>0.0</td>\n",
              "      <td>0.0</td>\n",
              "      <td>0.0</td>\n",
              "      <td>0.0</td>\n",
              "      <td>0.0</td>\n",
              "      <td>0</td>\n",
              "      <td>0</td>\n",
              "      <td>0</td>\n",
              "      <td>0</td>\n",
              "      <td>0</td>\n",
              "    </tr>\n",
              "    <tr>\n",
              "      <th>...</th>\n",
              "      <td>...</td>\n",
              "      <td>...</td>\n",
              "      <td>...</td>\n",
              "      <td>...</td>\n",
              "      <td>...</td>\n",
              "      <td>...</td>\n",
              "      <td>...</td>\n",
              "      <td>...</td>\n",
              "      <td>...</td>\n",
              "      <td>...</td>\n",
              "      <td>...</td>\n",
              "      <td>...</td>\n",
              "      <td>...</td>\n",
              "      <td>...</td>\n",
              "      <td>...</td>\n",
              "      <td>...</td>\n",
              "      <td>...</td>\n",
              "      <td>...</td>\n",
              "      <td>...</td>\n",
              "      <td>...</td>\n",
              "      <td>...</td>\n",
              "    </tr>\n",
              "    <tr>\n",
              "      <th>71</th>\n",
              "      <td>34</td>\n",
              "      <td>NaN</td>\n",
              "      <td>NaN</td>\n",
              "      <td>3.0</td>\n",
              "      <td>0.0</td>\n",
              "      <td>0.0</td>\n",
              "      <td>0.0</td>\n",
              "      <td>NaN</td>\n",
              "      <td>NaN</td>\n",
              "      <td>NaN</td>\n",
              "      <td>...</td>\n",
              "      <td>NaN</td>\n",
              "      <td>NaN</td>\n",
              "      <td>NaN</td>\n",
              "      <td>NaN</td>\n",
              "      <td>NaN</td>\n",
              "      <td>0</td>\n",
              "      <td>0</td>\n",
              "      <td>0</td>\n",
              "      <td>0</td>\n",
              "      <td>0</td>\n",
              "    </tr>\n",
              "    <tr>\n",
              "      <th>106</th>\n",
              "      <td>30</td>\n",
              "      <td>4.0</td>\n",
              "      <td>16.0</td>\n",
              "      <td>2.0</td>\n",
              "      <td>0.0</td>\n",
              "      <td>0.0</td>\n",
              "      <td>0.0</td>\n",
              "      <td>1.0</td>\n",
              "      <td>13.0</td>\n",
              "      <td>0.0</td>\n",
              "      <td>...</td>\n",
              "      <td>0.0</td>\n",
              "      <td>0.0</td>\n",
              "      <td>0.0</td>\n",
              "      <td>0.0</td>\n",
              "      <td>0.0</td>\n",
              "      <td>0</td>\n",
              "      <td>0</td>\n",
              "      <td>0</td>\n",
              "      <td>0</td>\n",
              "      <td>0</td>\n",
              "    </tr>\n",
              "    <tr>\n",
              "      <th>270</th>\n",
              "      <td>21</td>\n",
              "      <td>1.0</td>\n",
              "      <td>17.0</td>\n",
              "      <td>1.0</td>\n",
              "      <td>0.0</td>\n",
              "      <td>0.0</td>\n",
              "      <td>0.0</td>\n",
              "      <td>1.0</td>\n",
              "      <td>1.0</td>\n",
              "      <td>0.0</td>\n",
              "      <td>...</td>\n",
              "      <td>0.0</td>\n",
              "      <td>0.0</td>\n",
              "      <td>0.0</td>\n",
              "      <td>0.0</td>\n",
              "      <td>0.0</td>\n",
              "      <td>0</td>\n",
              "      <td>0</td>\n",
              "      <td>0</td>\n",
              "      <td>0</td>\n",
              "      <td>0</td>\n",
              "    </tr>\n",
              "    <tr>\n",
              "      <th>435</th>\n",
              "      <td>17</td>\n",
              "      <td>2.0</td>\n",
              "      <td>15.0</td>\n",
              "      <td>1.0</td>\n",
              "      <td>0.0</td>\n",
              "      <td>0.0</td>\n",
              "      <td>0.0</td>\n",
              "      <td>0.0</td>\n",
              "      <td>0.0</td>\n",
              "      <td>0.0</td>\n",
              "      <td>...</td>\n",
              "      <td>0.0</td>\n",
              "      <td>0.0</td>\n",
              "      <td>0.0</td>\n",
              "      <td>0.0</td>\n",
              "      <td>0.0</td>\n",
              "      <td>0</td>\n",
              "      <td>0</td>\n",
              "      <td>0</td>\n",
              "      <td>0</td>\n",
              "      <td>0</td>\n",
              "    </tr>\n",
              "    <tr>\n",
              "      <th>102</th>\n",
              "      <td>31</td>\n",
              "      <td>3.0</td>\n",
              "      <td>18.0</td>\n",
              "      <td>2.0</td>\n",
              "      <td>0.0</td>\n",
              "      <td>0.0</td>\n",
              "      <td>0.0</td>\n",
              "      <td>NaN</td>\n",
              "      <td>NaN</td>\n",
              "      <td>NaN</td>\n",
              "      <td>...</td>\n",
              "      <td>NaN</td>\n",
              "      <td>NaN</td>\n",
              "      <td>NaN</td>\n",
              "      <td>NaN</td>\n",
              "      <td>NaN</td>\n",
              "      <td>0</td>\n",
              "      <td>0</td>\n",
              "      <td>0</td>\n",
              "      <td>0</td>\n",
              "      <td>0</td>\n",
              "    </tr>\n",
              "  </tbody>\n",
              "</table>\n",
              "<p>643 rows × 27 columns</p>\n",
              "</div>\n",
              "      <button class=\"colab-df-convert\" onclick=\"convertToInteractive('df-9f72937a-4532-4574-9448-fcc6b615c2e5')\"\n",
              "              title=\"Convert this dataframe to an interactive table.\"\n",
              "              style=\"display:none;\">\n",
              "        \n",
              "  <svg xmlns=\"http://www.w3.org/2000/svg\" height=\"24px\"viewBox=\"0 0 24 24\"\n",
              "       width=\"24px\">\n",
              "    <path d=\"M0 0h24v24H0V0z\" fill=\"none\"/>\n",
              "    <path d=\"M18.56 5.44l.94 2.06.94-2.06 2.06-.94-2.06-.94-.94-2.06-.94 2.06-2.06.94zm-11 1L8.5 8.5l.94-2.06 2.06-.94-2.06-.94L8.5 2.5l-.94 2.06-2.06.94zm10 10l.94 2.06.94-2.06 2.06-.94-2.06-.94-.94-2.06-.94 2.06-2.06.94z\"/><path d=\"M17.41 7.96l-1.37-1.37c-.4-.4-.92-.59-1.43-.59-.52 0-1.04.2-1.43.59L10.3 9.45l-7.72 7.72c-.78.78-.78 2.05 0 2.83L4 21.41c.39.39.9.59 1.41.59.51 0 1.02-.2 1.41-.59l7.78-7.78 2.81-2.81c.8-.78.8-2.07 0-2.86zM5.41 20L4 18.59l7.72-7.72 1.47 1.35L5.41 20z\"/>\n",
              "  </svg>\n",
              "      </button>\n",
              "      \n",
              "  <style>\n",
              "    .colab-df-container {\n",
              "      display:flex;\n",
              "      flex-wrap:wrap;\n",
              "      gap: 12px;\n",
              "    }\n",
              "\n",
              "    .colab-df-convert {\n",
              "      background-color: #E8F0FE;\n",
              "      border: none;\n",
              "      border-radius: 50%;\n",
              "      cursor: pointer;\n",
              "      display: none;\n",
              "      fill: #1967D2;\n",
              "      height: 32px;\n",
              "      padding: 0 0 0 0;\n",
              "      width: 32px;\n",
              "    }\n",
              "\n",
              "    .colab-df-convert:hover {\n",
              "      background-color: #E2EBFA;\n",
              "      box-shadow: 0px 1px 2px rgba(60, 64, 67, 0.3), 0px 1px 3px 1px rgba(60, 64, 67, 0.15);\n",
              "      fill: #174EA6;\n",
              "    }\n",
              "\n",
              "    [theme=dark] .colab-df-convert {\n",
              "      background-color: #3B4455;\n",
              "      fill: #D2E3FC;\n",
              "    }\n",
              "\n",
              "    [theme=dark] .colab-df-convert:hover {\n",
              "      background-color: #434B5C;\n",
              "      box-shadow: 0px 1px 3px 1px rgba(0, 0, 0, 0.15);\n",
              "      filter: drop-shadow(0px 1px 2px rgba(0, 0, 0, 0.3));\n",
              "      fill: #FFFFFF;\n",
              "    }\n",
              "  </style>\n",
              "\n",
              "      <script>\n",
              "        const buttonEl =\n",
              "          document.querySelector('#df-9f72937a-4532-4574-9448-fcc6b615c2e5 button.colab-df-convert');\n",
              "        buttonEl.style.display =\n",
              "          google.colab.kernel.accessAllowed ? 'block' : 'none';\n",
              "\n",
              "        async function convertToInteractive(key) {\n",
              "          const element = document.querySelector('#df-9f72937a-4532-4574-9448-fcc6b615c2e5');\n",
              "          const dataTable =\n",
              "            await google.colab.kernel.invokeFunction('convertToInteractive',\n",
              "                                                     [key], {});\n",
              "          if (!dataTable) return;\n",
              "\n",
              "          const docLinkHtml = 'Like what you see? Visit the ' +\n",
              "            '<a target=\"_blank\" href=https://colab.research.google.com/notebooks/data_table.ipynb>data table notebook</a>'\n",
              "            + ' to learn more about interactive tables.';\n",
              "          element.innerHTML = '';\n",
              "          dataTable['output_type'] = 'display_data';\n",
              "          await google.colab.output.renderOutput(dataTable, element);\n",
              "          const docLink = document.createElement('div');\n",
              "          docLink.innerHTML = docLinkHtml;\n",
              "          element.appendChild(docLink);\n",
              "        }\n",
              "      </script>\n",
              "    </div>\n",
              "  </div>\n",
              "  "
            ]
          },
          "metadata": {},
          "execution_count": 10
        }
      ],
      "source": [
        "X_train"
      ]
    },
    {
      "cell_type": "code",
      "execution_count": 11,
      "metadata": {
        "id": "xvoti9l98XuI"
      },
      "outputs": [],
      "source": [
        "mean_impute = SimpleImputer(missing_values=np.nan, strategy='mean')\n",
        "mode_impute = SimpleImputer(missing_values=np.nan, strategy='most_frequent')\n",
        "#building a column transformer for imputing"
      ]
    },
    {
      "cell_type": "code",
      "execution_count": 12,
      "metadata": {
        "id": "rTKQQhMxvKvy"
      },
      "outputs": [],
      "source": [
        "mode_list = ['Smokes', 'Hormonal Contraceptives', 'IUD', 'Number of sexual partners', 'Num of pregnancies', 'First sexual intercourse',\n",
        "             'STDs', 'STDs:condylomatosis', 'STDs:vaginal condylomatosis', 'STDs:vulvo-perineal condylomatosis', 'STDs:syphilis', 'STDs:pelvic inflammatory disease', \n",
        "             'STDs:genital herpes', 'STDs:molluscum contagiosum', 'STDs:HIV',  'STDs:HPV']\n",
        "#splitting into different lists based on imputation method"
      ]
    },
    {
      "cell_type": "code",
      "execution_count": 13,
      "metadata": {
        "id": "UZrPTBbLvlNu"
      },
      "outputs": [],
      "source": [
        "mean_list = ['Smokes (years)', 'Smokes (packs/year)', 'Hormonal Contraceptives (years)', 'IUD (years)', 'STDs (number)', 'STDs: Number of diagnosis']"
      ]
    },
    {
      "cell_type": "code",
      "execution_count": 14,
      "metadata": {
        "id": "PsmtVZ5kwTXF"
      },
      "outputs": [],
      "source": [
        "mode_tuple = (mode_impute, mode_list)\n",
        "mean_tuple = (mean_impute, mean_list)"
      ]
    },
    {
      "cell_type": "code",
      "execution_count": 15,
      "metadata": {
        "id": "utceOlkZwyd2"
      },
      "outputs": [],
      "source": [
        "coltrans = make_column_transformer(mode_tuple, mean_tuple, remainder='passthrough')\n",
        "#instantiating column transformer"
      ]
    },
    {
      "cell_type": "code",
      "execution_count": 16,
      "metadata": {
        "id": "KwhgoCZ_w5fi"
      },
      "outputs": [],
      "source": [
        "coltrans.fit(X_train)\n",
        "X_train_imp = coltrans.transform(X_train)\n",
        "X_test_imp = coltrans.transform(X_test)\n",
        "#fitting and transforming data"
      ]
    },
    {
      "cell_type": "code",
      "execution_count": 17,
      "metadata": {
        "colab": {
          "base_uri": "https://localhost:8080/"
        },
        "id": "tg8PQKulrMno",
        "outputId": "4c1a6a2d-0ace-4399-d9af-6b9e199a81ee"
      },
      "outputs": [
        {
          "output_type": "execute_result",
          "data": {
            "text/plain": [
              "array([['0.0', '1.0', '0.0', ..., 0, 0, 0],\n",
              "       ['0.0', '0.0', '0.0', ..., 0, 0, 0],\n",
              "       ['0.0', '0.0', '0.0', ..., 0, 0, 0],\n",
              "       ...,\n",
              "       ['0.0', '1.0', '0.0', ..., 0, 0, 0],\n",
              "       ['0.0', '0.0', '0.0', ..., 0, 0, 0],\n",
              "       ['0.0', '1.0', '0.0', ..., 0, 0, 0]], dtype=object)"
            ]
          },
          "metadata": {},
          "execution_count": 17
        }
      ],
      "source": [
        "X_train_imp"
      ]
    },
    {
      "cell_type": "code",
      "execution_count": 18,
      "metadata": {
        "id": "0mCjtMQXxOyN"
      },
      "outputs": [],
      "source": [
        "col_names = ['Smokes', 'Hormonal Contraceptives', 'IUD', 'Number of sexual partners', 'Num of pregnancies', 'First sexual intercourse',\n",
        "             'STDs', 'STDs:condylomatosis', 'STDs:vaginal condylomatosis', 'STDs:vulvo-perineal condylomatosis', 'STDs:syphilis', 'STDs:pelvic inflammatory disease', \n",
        "             'STDs:genital herpes', 'STDs:molluscum contagiosum', 'STDs:HIV',  'STDs:HPV', \n",
        "             'Smokes (years)', 'Smokes (packs/year)', 'Hormonal Contraceptives (years)', 'IUD (years)', 'STDs (number)', 'STDs: Number of diagnosis', 'Age',\n",
        "             'Dx:Cancer', \n",
        "             'Dx:CIN', \n",
        "             'Dx:HPV',\n",
        "             'Dx']\n",
        "#column transformer moved around my columns so they are listed here in the revised order for column name assignment in the next step"
      ]
    },
    {
      "cell_type": "code",
      "execution_count": 19,
      "metadata": {
        "id": "m807tuaFzEJw"
      },
      "outputs": [],
      "source": [
        "X_train_eda = pd.DataFrame(X_train_imp, columns=col_names)\n",
        "X_test_eda = pd.DataFrame(X_test_imp, columns=col_names)\n",
        "#reconverting from array to dataframe"
      ]
    },
    {
      "cell_type": "code",
      "execution_count": 20,
      "metadata": {
        "colab": {
          "base_uri": "https://localhost:8080/"
        },
        "id": "uR_EzWD6PDe0",
        "outputId": "bbcdae62-34cc-4c4b-f9f2-a9e16b35305b"
      },
      "outputs": [
        {
          "output_type": "execute_result",
          "data": {
            "text/plain": [
              "Smokes  Hormonal Contraceptives  IUD  Number of sexual partners  Num of pregnancies  First sexual intercourse  STDs  STDs:condylomatosis  STDs:vaginal condylomatosis  STDs:vulvo-perineal condylomatosis  STDs:syphilis  STDs:pelvic inflammatory disease  STDs:genital herpes  STDs:molluscum contagiosum  STDs:HIV  STDs:HPV  Smokes (years)  Smokes (packs/year)  Hormonal Contraceptives (years)  IUD (years)  STDs (number)  STDs: Number of diagnosis  Age  Dx:Cancer  Dx:CIN  Dx:HPV  Dx\n",
              "0.0     0.0                      0.0  1.0                        1.0                 14.0                      0.0   0.0                  0.0                          0.0                                 0.0            0.0                               0.0                  0.0                         0.0       0.0       0.0             0.0                  0.000000                         0.00000      0.000000       0.0                        15   0          0       0       0     3\n",
              "                                      2.0                        1.0                 15.0                      0.0   0.0                  0.0                          0.0                                 0.0            0.0                               0.0                  0.0                         0.0       0.0       0.0             0.0                  0.000000                         0.00000      0.000000       0.0                        17   0          0       0       0     3\n",
              "                                      1.0                        1.0                 17.0                      0.0   0.0                  0.0                          0.0                                 0.0            0.0                               0.0                  0.0                         0.0       0.0       0.0             0.0                  0.000000                         0.00000      0.000000       0.0                        18   0          0       0       0     2\n",
              "        1.0                      0.0  2.0                        2.0                 15.0                      0.0   0.0                  0.0                          0.0                                 0.0            0.0                               0.0                  0.0                         0.0       0.0       0.0             0.0                  2.273135                         0.45275      0.192101       0.0                        17   0          0       0       0     2\n",
              "                                                                                     20.0                      0.0   0.0                  0.0                          0.0                                 0.0            0.0                               0.0                  0.0                         0.0       0.0       0.0             0.0                  1.000000                         0.00000      0.000000       0.0                        28   0          0       0       0     2\n",
              "                                                                                                                                                                                                                                                                                                                                                                                                                                                                                                   ..\n",
              "                                      1.0                        2.0                 16.0                      0.0   0.0                  0.0                          0.0                                 0.0            0.0                               0.0                  0.0                         0.0       0.0       0.0             0.0                  7.000000                         0.00000      0.000000       0.0                        27   0          0       0       0     1\n",
              "                                                                                                                                                                                                                                                                                                                                                                      9.000000                         0.00000      0.000000       0.0                        30   0          0       0       0     1\n",
              "                                                                                     17.0                      0.0   0.0                  0.0                          0.0                                 0.0            0.0                               0.0                  0.0                         0.0       0.0       0.0             0.0                  0.500000                         0.00000      0.000000       0.0                        23   0          0       0       0     1\n",
              "                                                                                                                                                                                                                                                                                                                                                                      6.000000                         0.00000      0.000000       0.0                        23   0          0       0       0     1\n",
              "1.0     1.0                      1.0  4.0                        2.0                 15.0                      0.0   0.0                  0.0                          0.0                                 0.0            0.0                               0.0                  0.0                         0.0       0.0       6.0             6.0                  0.080000                         4.00000      0.000000       0.0                        23   0          0       0       0     1\n",
              "Length: 628, dtype: int64"
            ]
          },
          "metadata": {},
          "execution_count": 20
        }
      ],
      "source": [
        "X_train_eda.value_counts()\n",
        "#verifying all my columns are in the right place"
      ]
    },
    {
      "cell_type": "code",
      "execution_count": 21,
      "metadata": {
        "colab": {
          "base_uri": "https://localhost:8080/"
        },
        "id": "nqGERWgDOcNr",
        "outputId": "483ecacc-c2c2-446b-a1f4-a523fae76ad4"
      },
      "outputs": [
        {
          "output_type": "stream",
          "name": "stdout",
          "text": [
            "<class 'pandas.core.frame.DataFrame'>\n",
            "RangeIndex: 643 entries, 0 to 642\n",
            "Data columns (total 27 columns):\n",
            " #   Column                              Non-Null Count  Dtype \n",
            "---  ------                              --------------  ----- \n",
            " 0   Smokes                              643 non-null    object\n",
            " 1   Hormonal Contraceptives             643 non-null    object\n",
            " 2   IUD                                 643 non-null    object\n",
            " 3   Number of sexual partners           643 non-null    object\n",
            " 4   Num of pregnancies                  643 non-null    object\n",
            " 5   First sexual intercourse            643 non-null    object\n",
            " 6   STDs                                643 non-null    object\n",
            " 7   STDs:condylomatosis                 643 non-null    object\n",
            " 8   STDs:vaginal condylomatosis         643 non-null    object\n",
            " 9   STDs:vulvo-perineal condylomatosis  643 non-null    object\n",
            " 10  STDs:syphilis                       643 non-null    object\n",
            " 11  STDs:pelvic inflammatory disease    643 non-null    object\n",
            " 12  STDs:genital herpes                 643 non-null    object\n",
            " 13  STDs:molluscum contagiosum          643 non-null    object\n",
            " 14  STDs:HIV                            643 non-null    object\n",
            " 15  STDs:HPV                            643 non-null    object\n",
            " 16  Smokes (years)                      643 non-null    object\n",
            " 17  Smokes (packs/year)                 643 non-null    object\n",
            " 18  Hormonal Contraceptives (years)     643 non-null    object\n",
            " 19  IUD (years)                         643 non-null    object\n",
            " 20  STDs (number)                       643 non-null    object\n",
            " 21  STDs: Number of diagnosis           643 non-null    object\n",
            " 22  Age                                 643 non-null    object\n",
            " 23  Dx:Cancer                           643 non-null    object\n",
            " 24  Dx:CIN                              643 non-null    object\n",
            " 25  Dx:HPV                              643 non-null    object\n",
            " 26  Dx                                  643 non-null    object\n",
            "dtypes: object(27)\n",
            "memory usage: 135.8+ KB\n"
          ]
        }
      ],
      "source": [
        "X_train_eda.info()\n",
        "#verifying successful imputations of missing values"
      ]
    },
    {
      "cell_type": "code",
      "execution_count": 22,
      "metadata": {
        "id": "25sT2oshP33C"
      },
      "outputs": [],
      "source": [
        "X_train_eda = X_train_eda.astype('float')\n",
        "#messy data types, fixing that"
      ]
    },
    {
      "cell_type": "code",
      "execution_count": 23,
      "metadata": {
        "colab": {
          "base_uri": "https://localhost:8080/"
        },
        "id": "Em3gsALLOnEe",
        "outputId": "5564060e-4bf1-4d1e-861d-01e7152689a9"
      },
      "outputs": [
        {
          "output_type": "stream",
          "name": "stdout",
          "text": [
            "<class 'pandas.core.frame.DataFrame'>\n",
            "RangeIndex: 643 entries, 0 to 642\n",
            "Data columns (total 27 columns):\n",
            " #   Column                              Non-Null Count  Dtype  \n",
            "---  ------                              --------------  -----  \n",
            " 0   Smokes                              643 non-null    float64\n",
            " 1   Hormonal Contraceptives             643 non-null    float64\n",
            " 2   IUD                                 643 non-null    float64\n",
            " 3   Number of sexual partners           643 non-null    float64\n",
            " 4   Num of pregnancies                  643 non-null    float64\n",
            " 5   First sexual intercourse            643 non-null    float64\n",
            " 6   STDs                                643 non-null    float64\n",
            " 7   STDs:condylomatosis                 643 non-null    float64\n",
            " 8   STDs:vaginal condylomatosis         643 non-null    float64\n",
            " 9   STDs:vulvo-perineal condylomatosis  643 non-null    float64\n",
            " 10  STDs:syphilis                       643 non-null    float64\n",
            " 11  STDs:pelvic inflammatory disease    643 non-null    float64\n",
            " 12  STDs:genital herpes                 643 non-null    float64\n",
            " 13  STDs:molluscum contagiosum          643 non-null    float64\n",
            " 14  STDs:HIV                            643 non-null    float64\n",
            " 15  STDs:HPV                            643 non-null    float64\n",
            " 16  Smokes (years)                      643 non-null    float64\n",
            " 17  Smokes (packs/year)                 643 non-null    float64\n",
            " 18  Hormonal Contraceptives (years)     643 non-null    float64\n",
            " 19  IUD (years)                         643 non-null    float64\n",
            " 20  STDs (number)                       643 non-null    float64\n",
            " 21  STDs: Number of diagnosis           643 non-null    float64\n",
            " 22  Age                                 643 non-null    float64\n",
            " 23  Dx:Cancer                           643 non-null    float64\n",
            " 24  Dx:CIN                              643 non-null    float64\n",
            " 25  Dx:HPV                              643 non-null    float64\n",
            " 26  Dx                                  643 non-null    float64\n",
            "dtypes: float64(27)\n",
            "memory usage: 135.8 KB\n"
          ]
        }
      ],
      "source": [
        "X_train_eda.info()"
      ]
    },
    {
      "cell_type": "code",
      "execution_count": 24,
      "metadata": {
        "id": "Tcas_Nbqw_dc"
      },
      "outputs": [],
      "source": [
        "X_test_eda = X_test_eda.astype('float')\n",
        "#fixing data types in X_test as well"
      ]
    },
    {
      "cell_type": "code",
      "execution_count": 25,
      "metadata": {
        "colab": {
          "base_uri": "https://localhost:8080/"
        },
        "id": "mC_Gq5Xaw5aQ",
        "outputId": "0312ed7a-284b-4744-c147-77d9f0d28184"
      },
      "outputs": [
        {
          "output_type": "stream",
          "name": "stdout",
          "text": [
            "<class 'pandas.core.frame.DataFrame'>\n",
            "RangeIndex: 215 entries, 0 to 214\n",
            "Data columns (total 27 columns):\n",
            " #   Column                              Non-Null Count  Dtype  \n",
            "---  ------                              --------------  -----  \n",
            " 0   Smokes                              215 non-null    float64\n",
            " 1   Hormonal Contraceptives             215 non-null    float64\n",
            " 2   IUD                                 215 non-null    float64\n",
            " 3   Number of sexual partners           215 non-null    float64\n",
            " 4   Num of pregnancies                  215 non-null    float64\n",
            " 5   First sexual intercourse            215 non-null    float64\n",
            " 6   STDs                                215 non-null    float64\n",
            " 7   STDs:condylomatosis                 215 non-null    float64\n",
            " 8   STDs:vaginal condylomatosis         215 non-null    float64\n",
            " 9   STDs:vulvo-perineal condylomatosis  215 non-null    float64\n",
            " 10  STDs:syphilis                       215 non-null    float64\n",
            " 11  STDs:pelvic inflammatory disease    215 non-null    float64\n",
            " 12  STDs:genital herpes                 215 non-null    float64\n",
            " 13  STDs:molluscum contagiosum          215 non-null    float64\n",
            " 14  STDs:HIV                            215 non-null    float64\n",
            " 15  STDs:HPV                            215 non-null    float64\n",
            " 16  Smokes (years)                      215 non-null    float64\n",
            " 17  Smokes (packs/year)                 215 non-null    float64\n",
            " 18  Hormonal Contraceptives (years)     215 non-null    float64\n",
            " 19  IUD (years)                         215 non-null    float64\n",
            " 20  STDs (number)                       215 non-null    float64\n",
            " 21  STDs: Number of diagnosis           215 non-null    float64\n",
            " 22  Age                                 215 non-null    float64\n",
            " 23  Dx:Cancer                           215 non-null    float64\n",
            " 24  Dx:CIN                              215 non-null    float64\n",
            " 25  Dx:HPV                              215 non-null    float64\n",
            " 26  Dx                                  215 non-null    float64\n",
            "dtypes: float64(27)\n",
            "memory usage: 45.5 KB\n"
          ]
        }
      ],
      "source": [
        "X_test_eda.info()"
      ]
    },
    {
      "cell_type": "markdown",
      "source": [
        "Repeating data visualization for all variables to ensure that training data remains the same across different iterations examining different targets."
      ],
      "metadata": {
        "id": "IC4Z2O-lSGFE"
      }
    },
    {
      "cell_type": "code",
      "execution_count": 26,
      "metadata": {
        "colab": {
          "base_uri": "https://localhost:8080/",
          "height": 281
        },
        "id": "-exy23dYLDRd",
        "outputId": "a4cebf82-7e65-476e-acff-ca56b5af2310"
      },
      "outputs": [
        {
          "output_type": "display_data",
          "data": {
            "text/plain": [
              "<Figure size 432x288 with 1 Axes>"
            ],
            "image/png": "[encoded data removed]"
          },
          "metadata": {
            "needs_background": "light"
          }
        }
      ],
      "source": [
        "plt.hist(X_train_eda['Age'], bins=30, edgecolor='k')\n",
        "plt.title('Age');\n",
        "#looks like an outlier here, at least one much older participant"
      ]
    },
    {
      "cell_type": "code",
      "execution_count": null,
      "metadata": {
        "id": "bmIE38SvOCpZ"
      },
      "outputs": [],
      "source": [
        "plt.hist(X_train_eda['Number of sexual partners'], bins=30, edgecolor='k')\n",
        "plt.title('Number of Sexual Partners')\n",
        "plt.xlabel('Number of Sexual Partners')\n",
        "plt.ylabel('Number of Respondents')\n",
        "plt.tight_layout()\n",
        "plt.savefig('NumberofSexualPartners.png', dpi = 300);\n",
        "#some outliers here as well"
      ]
    },
    {
      "cell_type": "code",
      "execution_count": null,
      "metadata": {
        "id": "GjEtx9vHPYUX"
      },
      "outputs": [],
      "source": [
        "plt.hist(X_train_eda['First sexual intercourse'], bins=20, edgecolor='k')\n",
        "plt.title('Age of First Sexual Intercourse')\n",
        "plt.xlabel('Age (years)')\n",
        "plt.ylabel('Number of Respondents')\n",
        "plt.xticks(rotation=90)\n",
        "plt.tight_layout()\n",
        "plt.savefig('AgeofFirstSexualIntercourse.png', dpi = 300);\n",
        "#fairly normal with a bit of a right skew"
      ]
    },
    {
      "cell_type": "code",
      "execution_count": null,
      "metadata": {
        "id": "Wg0O8N5bQwXY"
      },
      "outputs": [],
      "source": [
        "plt.hist(X_train_eda['Num of pregnancies'], bins=8, edgecolor='k')\n",
        "plt.title('Number of Pregnancies')\n",
        "plt.xlabel('Number of Pregnancies')\n",
        "plt.ylabel('Number of Respondents')\n",
        "plt.tight_layout()\n",
        "plt.savefig('NumberofPregnancies.png', dpi = 300);\n",
        "#right skew here"
      ]
    },
    {
      "cell_type": "code",
      "execution_count": null,
      "metadata": {
        "id": "BrW4sQFtQ6m5"
      },
      "outputs": [],
      "source": [
        "plt.hist(X_train_eda['Smokes'], bins=2, edgecolor='k')\n",
        "plt.title('Smokes');"
      ]
    },
    {
      "cell_type": "code",
      "execution_count": null,
      "metadata": {
        "id": "SjfaR1XqRAhe"
      },
      "outputs": [],
      "source": [
        "plt.hist(X_train_eda['Smokes (years)'], bins=15, edgecolor='k')\n",
        "plt.title('Years of Smoking')\n",
        "plt.xlabel('Years of Smoking')\n",
        "plt.ylabel('Number of Respondents')\n",
        "plt.tight_layout()\n",
        "plt.savefig('YearsofSmoking.png', dpi=300);\n",
        "#right skew, though most of these probably count as outliers as most participants were non-smokers"
      ]
    },
    {
      "cell_type": "code",
      "execution_count": null,
      "metadata": {
        "id": "nGGMvk6nRRd4"
      },
      "outputs": [],
      "source": [
        "plt.hist(X_train_eda['Smokes (packs/year)'], bins=15, edgecolor='k')\n",
        "plt.title('Packs of Cigarettes Smoked per Year');\n",
        "#similar skew to the graph above"
      ]
    },
    {
      "cell_type": "code",
      "execution_count": null,
      "metadata": {
        "id": "ff_WQuRZRcCS"
      },
      "outputs": [],
      "source": [
        "z = X_train_eda['Hormonal Contraceptives'].value_counts()\n",
        "\n",
        "a = list(z.index)\n",
        "b = list(z)\n",
        "\n",
        "plt.figure(figsize=(14,10))\n",
        "plt.bar(a, b, edgecolor='k')\n",
        "plt.title('Hormonal Contraceptives', fontsize=20)\n",
        "plt.xticks(ticks=[0,1], labels=['No History', 'History of Use'], fontsize=16),\n",
        "plt.ylabel('Number of Participants', fontsize=16);\n",
        "#more common for our participants to have taken hormonal contraceptives than not"
      ]
    },
    {
      "cell_type": "code",
      "execution_count": null,
      "metadata": {
        "id": "YReNCtmdRl-S"
      },
      "outputs": [],
      "source": [
        "plt.figure(figsize=(16,12))\n",
        "plt.hist(X_train_eda['Hormonal Contraceptives (years)'], bins=20, edgecolor='k')\n",
        "plt.title('Years of Taking Hormonal Contraceptives', fontsize=20),\n",
        "plt.xlabel('Number of Years', fontsize=16),\n",
        "plt.ylabel('Number of Participants', fontsize=16);\n",
        "#right skew with some outliers"
      ]
    },
    {
      "cell_type": "code",
      "execution_count": null,
      "metadata": {
        "id": "i73KKfYURuQ-"
      },
      "outputs": [],
      "source": [
        "plt.hist(X_train_eda['IUD'], bins=2, edgecolor='k')\n",
        "plt.title('IUD');\n",
        "#IUD is much less common than hormonal contraceptives in our dataset"
      ]
    },
    {
      "cell_type": "code",
      "execution_count": null,
      "metadata": {
        "id": "CUz9d8ZRRuOb"
      },
      "outputs": [],
      "source": [
        "plt.hist(X_train_eda['IUD (years)'], bins=20, edgecolor='k')\n",
        "plt.title('Years with IUD');\n",
        "#with so few IUD users, most on the tail of this skew are likely outliers"
      ]
    },
    {
      "cell_type": "code",
      "execution_count": null,
      "metadata": {
        "id": "PGhkzwRjR_E0"
      },
      "outputs": [],
      "source": [
        "z = X_train_eda['STDs'].value_counts()\n",
        "\n",
        "a = list(z.index)\n",
        "b = list(z)\n",
        "\n",
        "plt.figure(figsize=(16,12))\n",
        "plt.bar(a, b, edgecolor='k')\n",
        "plt.title('STDs', fontsize=20)\n",
        "plt.xticks(ticks=[0,1], labels=['No History of STDs', 'History of STDs'], fontsize=16)\n",
        "plt.ylabel('Number of Participants', fontsize=16);\n",
        "#STDs are uncommon it seems, or at least not commonly admitted to"
      ]
    },
    {
      "cell_type": "code",
      "execution_count": null,
      "metadata": {
        "id": "ptU5jYWvSHOv"
      },
      "outputs": [],
      "source": [
        "plt.hist(X_train_eda['STDs (number)'], bins=5, edgecolor='k')\n",
        "plt.title('Number of STDs');\n",
        "#also more common to disclose fewer than 3"
      ]
    },
    {
      "cell_type": "code",
      "execution_count": null,
      "metadata": {
        "id": "TlfUP5g_Ttp4"
      },
      "outputs": [],
      "source": [
        "plt.hist(X_train_eda['STDs:condylomatosis'], bins=2, edgecolor='k')\n",
        "plt.title('Condylomatosis');"
      ]
    },
    {
      "cell_type": "code",
      "execution_count": null,
      "metadata": {
        "id": "wCQbVpqPUMzu"
      },
      "outputs": [],
      "source": [
        "plt.hist(X_train_eda['STDs:vaginal condylomatosis'], bins=2, edgecolor='k')\n",
        "plt.title('Vaginal Condylomatosis');"
      ]
    },
    {
      "cell_type": "code",
      "execution_count": null,
      "metadata": {
        "id": "RiNQKAWCUZxZ"
      },
      "outputs": [],
      "source": [
        "plt.hist(X_train_eda['STDs:vulvo-perineal condylomatosis'], bins=2, edgecolor='k')\n",
        "plt.title('Vulvo-Perineal Condylomatosis');"
      ]
    },
    {
      "cell_type": "code",
      "execution_count": null,
      "metadata": {
        "id": "WJ2NasIoUiAu"
      },
      "outputs": [],
      "source": [
        "plt.hist(X_train_eda['STDs:syphilis'], bins=2, edgecolor='k')\n",
        "plt.title('Syphilis');"
      ]
    },
    {
      "cell_type": "code",
      "execution_count": null,
      "metadata": {
        "id": "mpvhWNyNUl3F"
      },
      "outputs": [],
      "source": [
        "plt.hist(X_train_eda['STDs:pelvic inflammatory disease'], bins=2, edgecolor='k')\n",
        "plt.title('Pelvic Inflammatory Disease');"
      ]
    },
    {
      "cell_type": "code",
      "execution_count": null,
      "metadata": {
        "id": "Ctt9vYWvUqXM"
      },
      "outputs": [],
      "source": [
        "plt.hist(X_train_eda['STDs:genital herpes'], bins=2, edgecolor='k')\n",
        "plt.title('Genital Herpes');"
      ]
    },
    {
      "cell_type": "code",
      "execution_count": null,
      "metadata": {
        "id": "84D_3iz0Uuqn"
      },
      "outputs": [],
      "source": [
        "plt.hist(X_train_eda['STDs:molluscum contagiosum'], bins=2, edgecolor='k')\n",
        "plt.title('Molluscum Contagiosum');"
      ]
    },
    {
      "cell_type": "code",
      "execution_count": null,
      "metadata": {
        "id": "OOBGG2DSVBLX"
      },
      "outputs": [],
      "source": [
        "plt.hist(X_train_eda['STDs:HIV'], bins=2, edgecolor='k')\n",
        "plt.title('HIV');\n",
        "#still some with HIV, however, this does not necessarily confound their data"
      ]
    },
    {
      "cell_type": "code",
      "execution_count": null,
      "metadata": {
        "id": "iLkFaFiWVRV3"
      },
      "outputs": [],
      "source": [
        "z = X_train_eda['STDs:HPV'].value_counts()\n",
        "\n",
        "a = list(z.index)\n",
        "b = list(z)\n",
        "\n",
        "plt.figure(figsize=(16,12))\n",
        "plt.bar(a, b, edgecolor='k')\n",
        "plt.title('HPV', fontsize=20)\n",
        "plt.xticks(ticks=[0,1], labels=['No History of HPV', 'History of HPV'], fontsize=16)\n",
        "plt.ylabel('Number of Participants', fontsize=16);"
      ]
    },
    {
      "cell_type": "code",
      "execution_count": null,
      "metadata": {
        "id": "zo5bNUmjVUpv"
      },
      "outputs": [],
      "source": [
        "plt.hist(X_train_eda['STDs: Number of diagnosis'], bins=4, edgecolor='k')\n",
        "plt.title('Number of STD diagnoses');\n",
        "#looks like anyone who answered more than 1 is an outlier in this column"
      ]
    },
    {
      "cell_type": "code",
      "execution_count": null,
      "metadata": {
        "id": "m15XNU8SVhgN"
      },
      "outputs": [],
      "source": [
        "plt.hist(X_train_eda['Dx:Cancer'], bins=2, edgecolor='k')\n",
        "plt.title('Diagnosis of Cancer');"
      ]
    },
    {
      "cell_type": "code",
      "execution_count": null,
      "metadata": {
        "id": "zfSEUndVVlPl"
      },
      "outputs": [],
      "source": [
        "plt.hist(X_train_eda['Dx:CIN'], bins=2, edgecolor='k')\n",
        "plt.title('Diagnosis of CIN');"
      ]
    },
    {
      "cell_type": "code",
      "execution_count": null,
      "metadata": {
        "id": "ajMNmMQgVnoJ"
      },
      "outputs": [],
      "source": [
        "plt.hist(X_train_eda['Dx:HPV'], bins=2, edgecolor='k')\n",
        "plt.title('Diagnosis of HPV');"
      ]
    },
    {
      "cell_type": "code",
      "execution_count": null,
      "metadata": {
        "id": "L300U7ogVqL8"
      },
      "outputs": [],
      "source": [
        "plt.hist(X_train_eda['Dx'], bins=2, edgecolor='k')\n",
        "plt.title('Previous Diagnosis');"
      ]
    },
    {
      "cell_type": "code",
      "execution_count": null,
      "metadata": {
        "id": "A1KD-j2RVuNA"
      },
      "outputs": [],
      "source": [
        "plt.hist(y_train, bins=2, edgecolor='k')\n",
        "plt.title('Positive Schiller test (Target Column)');\n",
        "#target column"
      ]
    },
    {
      "cell_type": "markdown",
      "source": [
        "It seems that the Schiller test is less imbalanced, which may be an indication of a highrate of false positives, as these do not seem to have been confirmed by Biopsy"
      ],
      "metadata": {
        "id": "Wl5PzL3VS_D_"
      }
    },
    {
      "cell_type": "code",
      "execution_count": null,
      "metadata": {
        "id": "0LPfaDgzYMiI"
      },
      "outputs": [],
      "source": [
        "X_train_eda['Schiller'] = y_train\n",
        "#re-adding the target column for checking correlations"
      ]
    },
    {
      "cell_type": "code",
      "execution_count": null,
      "metadata": {
        "id": "xDzk9kCcx1UF"
      },
      "outputs": [],
      "source": [
        "train_corr = X_train_eda.corr()"
      ]
    },
    {
      "cell_type": "code",
      "execution_count": null,
      "metadata": {
        "id": "-za02YrGYRIC"
      },
      "outputs": [],
      "source": [
        "plt.figure(figsize=(25,25))\n",
        "sns.heatmap(data=train_corr, cmap='Greens', annot=True);"
      ]
    },
    {
      "cell_type": "markdown",
      "metadata": {
        "id": "1qrBje91lSJ2"
      },
      "source": [
        "Unfortunately no strong correlations with the Schiller column. This is consistent with all other diagnostic tests."
      ]
    },
    {
      "cell_type": "code",
      "execution_count": null,
      "metadata": {
        "id": "Ddi76_vUQM1d"
      },
      "outputs": [],
      "source": [
        "plt.figure(figsize=(30,30))\n",
        "sns.pairplot(X_train_eda);"
      ]
    },
    {
      "cell_type": "code",
      "execution_count": null,
      "metadata": {
        "id": "IPaEKp-psTLn"
      },
      "outputs": [],
      "source": [
        "X_train_eda = X_train_eda.drop(columns=['Schiller'])\n",
        "#re-dropping target column"
      ]
    },
    {
      "cell_type": "code",
      "execution_count": null,
      "metadata": {
        "id": "Yb5Yb9Hap_1x"
      },
      "outputs": [],
      "source": [
        "scaler = StandardScaler()\n",
        "#instantiating scaler"
      ]
    },
    {
      "cell_type": "code",
      "execution_count": null,
      "metadata": {
        "id": "8qGW-6FlpN9F"
      },
      "outputs": [],
      "source": [
        "xgb = XGBClassifier()\n",
        "#instantiating xgb model"
      ]
    },
    {
      "cell_type": "code",
      "execution_count": null,
      "metadata": {
        "id": "PeIvq0oppyIc"
      },
      "outputs": [],
      "source": [
        "xgb_pipe = make_pipeline(scaler, xgb)"
      ]
    },
    {
      "cell_type": "code",
      "execution_count": null,
      "metadata": {
        "id": "lgl8CWogqHYt"
      },
      "outputs": [],
      "source": [
        "xgb_pipe.fit(X_train_eda, y_train)"
      ]
    },
    {
      "cell_type": "code",
      "execution_count": null,
      "metadata": {
        "id": "pF1MXrDcu04v"
      },
      "outputs": [],
      "source": [
        "xgb_preds = xgb_pipe.predict(X_test)"
      ]
    },
    {
      "cell_type": "code",
      "execution_count": null,
      "metadata": {
        "id": "wFPBWLaGvgVn"
      },
      "outputs": [],
      "source": [
        "print(classification_report(y_test,xgb_preds))\n",
        "#looks like when testing with Schiller's test as well that models have a hard time predicting positive class"
      ]
    },
    {
      "cell_type": "code",
      "execution_count": null,
      "metadata": {
        "id": "AkcNzkhuvmOF"
      },
      "outputs": [],
      "source": [
        "rf = RandomForestClassifier()"
      ]
    },
    {
      "cell_type": "code",
      "execution_count": null,
      "metadata": {
        "id": "POs3yhcYvt0o"
      },
      "outputs": [],
      "source": [
        "rf_pipe = make_pipeline(scaler,rf)"
      ]
    },
    {
      "cell_type": "code",
      "execution_count": null,
      "metadata": {
        "id": "fTaaD6ftvx73"
      },
      "outputs": [],
      "source": [
        "rf_pipe.fit(X_train_eda, y_train)"
      ]
    },
    {
      "cell_type": "code",
      "execution_count": null,
      "metadata": {
        "id": "7FKA8lTXv0k0"
      },
      "outputs": [],
      "source": [
        "rf_preds = rf_pipe.predict(X_test_eda)"
      ]
    },
    {
      "cell_type": "code",
      "execution_count": null,
      "metadata": {
        "id": "IhUmG1Fpxj0j"
      },
      "outputs": [],
      "source": [
        "print(classification_report(y_test,rf_preds))\n",
        "#random forest seems to have performed better than the gradient boosted model so far\n",
        "#I'll try one other gradient boosted model"
      ]
    },
    {
      "cell_type": "markdown",
      "source": [
        "It looks like random forest detected positives for this test! That means I can run a comparison between this and the Biopsy model. I may wind up using this test as a feature column. I'll try a few more models to determine what's ideal for this target column"
      ],
      "metadata": {
        "id": "HglHrqJkKulv"
      }
    },
    {
      "cell_type": "code",
      "execution_count": null,
      "metadata": {
        "id": "9vsGjyadxpLb"
      },
      "outputs": [],
      "source": [
        "lgb = LGBMClassifier()"
      ]
    },
    {
      "cell_type": "code",
      "execution_count": null,
      "metadata": {
        "id": "IFyD2t5_yDDT"
      },
      "outputs": [],
      "source": [
        "lgb_pipe = make_pipeline(scaler,lgb)"
      ]
    },
    {
      "cell_type": "code",
      "execution_count": null,
      "metadata": {
        "id": "zZSjdZxEyHBs"
      },
      "outputs": [],
      "source": [
        "lgb_pipe.fit(X_train_eda, y_train)"
      ]
    },
    {
      "cell_type": "code",
      "execution_count": null,
      "metadata": {
        "id": "BhwQ8n5PyNvZ"
      },
      "outputs": [],
      "source": [
        "lgb_preds = lgb_pipe.predict(X_test_eda)"
      ]
    },
    {
      "cell_type": "code",
      "execution_count": null,
      "metadata": {
        "id": "Lq0tCgaIyRPN"
      },
      "outputs": [],
      "source": [
        "print(classification_report(y_test, lgb_preds))"
      ]
    },
    {
      "cell_type": "code",
      "execution_count": null,
      "metadata": {
        "id": "X8Nsqr3uU7sS"
      },
      "outputs": [],
      "source": [
        "from tensorflow.keras.models import Sequential\n",
        "from tensorflow.keras.layers import Dense, Dropout\n",
        "from tensorflow.keras.callbacks import EarlyStopping"
      ]
    },
    {
      "cell_type": "code",
      "execution_count": null,
      "metadata": {
        "id": "MavIKYY6WSxr"
      },
      "outputs": [],
      "source": [
        "X_train_scaled = scaler.fit_transform(X_train_eda)\n",
        "X_test_scaled = scaler.transform(X_test_eda)"
      ]
    },
    {
      "cell_type": "code",
      "execution_count": null,
      "metadata": {
        "id": "IcPVRnM8WPOf"
      },
      "outputs": [],
      "source": [
        "model = Sequential()"
      ]
    },
    {
      "cell_type": "code",
      "execution_count": null,
      "metadata": {
        "id": "wkDyrVm3We-j"
      },
      "outputs": [],
      "source": [
        "input_shape = X_train_scaled.shape[1]"
      ]
    },
    {
      "cell_type": "code",
      "execution_count": null,
      "metadata": {
        "id": "CZ2dcXlaagkF"
      },
      "outputs": [],
      "source": [
        "def plot_history(history, metric=None):\n",
        "  fig, axes = plt.subplots(2,1, figsize = (5,10))\n",
        "  axes[0].plot(history.history['loss'], label = \"train\")\n",
        "  axes[0].plot(history.history['val_loss'], label='test')\n",
        "  axes[0].set_title('Loss')\n",
        "  axes[0].legend()\n",
        "  if metric:\n",
        "    axes[1].plot(history.history[metric], label = 'train')\n",
        "    axes[1].plot(history.history['val_' + metric], label = 'test')\n",
        "    axes[1].set_title(metric)\n",
        "    axes[1].legend()\n",
        "\n",
        "  plt.show()"
      ]
    },
    {
      "cell_type": "code",
      "execution_count": null,
      "metadata": {
        "id": "xFTwkAzuYl7z"
      },
      "outputs": [],
      "source": [
        "model.add(Dense(18, activation='relu', input_dim=input_shape))\n",
        "\n",
        "model.add(Dense(8, activation='relu', input_dim=input_shape))\n",
        "\n",
        "model.add(Dense(1, activation='sigmoid'))\n",
        "estop = EarlyStopping(patience=10)"
      ]
    },
    {
      "cell_type": "code",
      "execution_count": null,
      "metadata": {
        "id": "zZftzc71ZglE"
      },
      "outputs": [],
      "source": [
        "model.compile(optimizer='adam', loss='bce', metrics='acc')"
      ]
    },
    {
      "cell_type": "code",
      "execution_count": null,
      "metadata": {
        "colab": {
          "base_uri": "https://localhost:8080/"
        },
        "id": "JtsJQaSKZrh2",
        "outputId": "6988f531-9ae1-42f9-a2e6-7045e59487b5"
      },
      "outputs": [
        {
          "output_type": "stream",
          "name": "stdout",
          "text": [
            "Epoch 1/100\n",
            "21/21 [==============================] - 1s 11ms/step - loss: 0.8342 - acc: 0.3561 - val_loss: 0.7611 - val_acc: 0.5070\n",
            "Epoch 2/100\n",
            "21/21 [==============================] - 0s 3ms/step - loss: 0.6679 - acc: 0.6594 - val_loss: 0.6163 - val_acc: 0.7907\n",
            "Epoch 3/100\n",
            "21/21 [==============================] - 0s 3ms/step - loss: 0.5547 - acc: 0.8849 - val_loss: 0.5132 - val_acc: 0.9163\n",
            "Epoch 4/100\n",
            "21/21 [==============================] - 0s 3ms/step - loss: 0.4618 - acc: 0.9440 - val_loss: 0.4246 - val_acc: 0.9442\n",
            "Epoch 5/100\n",
            "21/21 [==============================] - 0s 3ms/step - loss: 0.3785 - acc: 0.9565 - val_loss: 0.3468 - val_acc: 0.9488\n",
            "Epoch 6/100\n",
            "21/21 [==============================] - 0s 3ms/step - loss: 0.3067 - acc: 0.9580 - val_loss: 0.2875 - val_acc: 0.9535\n",
            "Epoch 7/100\n",
            "21/21 [==============================] - 0s 3ms/step - loss: 0.2539 - acc: 0.9580 - val_loss: 0.2493 - val_acc: 0.9535\n",
            "Epoch 8/100\n",
            "21/21 [==============================] - 0s 3ms/step - loss: 0.2191 - acc: 0.9596 - val_loss: 0.2244 - val_acc: 0.9535\n",
            "Epoch 9/100\n",
            "21/21 [==============================] - 0s 3ms/step - loss: 0.1976 - acc: 0.9596 - val_loss: 0.2115 - val_acc: 0.9535\n",
            "Epoch 10/100\n",
            "21/21 [==============================] - 0s 4ms/step - loss: 0.1850 - acc: 0.9596 - val_loss: 0.2037 - val_acc: 0.9535\n",
            "Epoch 11/100\n",
            "21/21 [==============================] - 0s 3ms/step - loss: 0.1763 - acc: 0.9596 - val_loss: 0.1990 - val_acc: 0.9535\n",
            "Epoch 12/100\n",
            "21/21 [==============================] - 0s 4ms/step - loss: 0.1704 - acc: 0.9596 - val_loss: 0.1963 - val_acc: 0.9535\n",
            "Epoch 13/100\n",
            "21/21 [==============================] - 0s 3ms/step - loss: 0.1657 - acc: 0.9596 - val_loss: 0.1945 - val_acc: 0.9535\n",
            "Epoch 14/100\n",
            "21/21 [==============================] - 0s 3ms/step - loss: 0.1628 - acc: 0.9596 - val_loss: 0.1940 - val_acc: 0.9535\n",
            "Epoch 15/100\n",
            "21/21 [==============================] - 0s 3ms/step - loss: 0.1603 - acc: 0.9596 - val_loss: 0.1931 - val_acc: 0.9535\n",
            "Epoch 16/100\n",
            "21/21 [==============================] - 0s 3ms/step - loss: 0.1585 - acc: 0.9596 - val_loss: 0.1926 - val_acc: 0.9535\n",
            "Epoch 17/100\n",
            "21/21 [==============================] - 0s 3ms/step - loss: 0.1570 - acc: 0.9596 - val_loss: 0.1924 - val_acc: 0.9535\n",
            "Epoch 18/100\n",
            "21/21 [==============================] - 0s 3ms/step - loss: 0.1554 - acc: 0.9596 - val_loss: 0.1927 - val_acc: 0.9535\n",
            "Epoch 19/100\n",
            "21/21 [==============================] - 0s 3ms/step - loss: 0.1541 - acc: 0.9611 - val_loss: 0.1943 - val_acc: 0.9535\n",
            "Epoch 20/100\n",
            "21/21 [==============================] - 0s 3ms/step - loss: 0.1525 - acc: 0.9627 - val_loss: 0.1938 - val_acc: 0.9535\n",
            "Epoch 21/100\n",
            "21/21 [==============================] - 0s 4ms/step - loss: 0.1514 - acc: 0.9611 - val_loss: 0.1940 - val_acc: 0.9535\n",
            "Epoch 22/100\n",
            "21/21 [==============================] - 0s 3ms/step - loss: 0.1501 - acc: 0.9611 - val_loss: 0.1936 - val_acc: 0.9581\n",
            "Epoch 23/100\n",
            "21/21 [==============================] - 0s 3ms/step - loss: 0.1492 - acc: 0.9627 - val_loss: 0.1931 - val_acc: 0.9581\n",
            "Epoch 24/100\n",
            "21/21 [==============================] - 0s 3ms/step - loss: 0.1481 - acc: 0.9627 - val_loss: 0.1935 - val_acc: 0.9581\n",
            "Epoch 25/100\n",
            "21/21 [==============================] - 0s 3ms/step - loss: 0.1476 - acc: 0.9627 - val_loss: 0.1935 - val_acc: 0.9581\n",
            "Epoch 26/100\n",
            "21/21 [==============================] - 0s 3ms/step - loss: 0.1466 - acc: 0.9627 - val_loss: 0.1941 - val_acc: 0.9581\n",
            "Epoch 27/100\n",
            "21/21 [==============================] - 0s 3ms/step - loss: 0.1461 - acc: 0.9627 - val_loss: 0.1950 - val_acc: 0.9535\n"
          ]
        }
      ],
      "source": [
        "history = model.fit(X_train_scaled, y_train,\n",
        "                    validation_data = (X_test_scaled, y_test),\n",
        "                    epochs = 100,\n",
        "                    callbacks=[estop])"
      ]
    },
    {
      "cell_type": "code",
      "execution_count": null,
      "metadata": {
        "colab": {
          "base_uri": "https://localhost:8080/",
          "height": 607
        },
        "id": "vyFj8Fsma7cR",
        "outputId": "b958e54a-8798-4e4d-9d21-185f6c0f236e"
      },
      "outputs": [
        {
          "output_type": "display_data",
          "data": {
            "text/plain": [
              "<Figure size 360x720 with 2 Axes>"
            ],
            "image/png": "[encoded data removed]"
          },
          "metadata": {
            "needs_background": "light"
          }
        }
      ],
      "source": [
        "plot_history(history, metric='acc')"
      ]
    },
    {
      "cell_type": "code",
      "execution_count": null,
      "metadata": {
        "id": "waNLdNFgH1VZ"
      },
      "outputs": [],
      "source": [
        "nn_preds = model.predict(X_test_eda)"
      ]
    },
    {
      "cell_type": "code",
      "execution_count": null,
      "metadata": {
        "id": "dpt8Tjalq5EL"
      },
      "outputs": [],
      "source": [
        "nn_preds_r = nn_preds.round()"
      ]
    },
    {
      "cell_type": "code",
      "execution_count": null,
      "metadata": {
        "colab": {
          "base_uri": "https://localhost:8080/"
        },
        "id": "P2NnTpD8u4Sv",
        "outputId": "43037ee2-c143-4ce6-931e-2373594b6d88"
      },
      "outputs": [
        {
          "output_type": "stream",
          "name": "stdout",
          "text": [
            "              precision    recall  f1-score   support\n",
            "\n",
            "           0       0.96      1.00      0.98       206\n",
            "           1       0.00      0.00      0.00         9\n",
            "\n",
            "    accuracy                           0.96       215\n",
            "   macro avg       0.48      0.50      0.49       215\n",
            "weighted avg       0.92      0.96      0.94       215\n",
            "\n"
          ]
        },
        {
          "output_type": "stream",
          "name": "stderr",
          "text": [
            "/usr/local/lib/python3.7/dist-packages/sklearn/metrics/_classification.py:1318: UndefinedMetricWarning: Precision and F-score are ill-defined and being set to 0.0 in labels with no predicted samples. Use `zero_division` parameter to control this behavior.\n",
            "  _warn_prf(average, modifier, msg_start, len(result))\n",
            "/usr/local/lib/python3.7/dist-packages/sklearn/metrics/_classification.py:1318: UndefinedMetricWarning: Precision and F-score are ill-defined and being set to 0.0 in labels with no predicted samples. Use `zero_division` parameter to control this behavior.\n",
            "  _warn_prf(average, modifier, msg_start, len(result))\n",
            "/usr/local/lib/python3.7/dist-packages/sklearn/metrics/_classification.py:1318: UndefinedMetricWarning: Precision and F-score are ill-defined and being set to 0.0 in labels with no predicted samples. Use `zero_division` parameter to control this behavior.\n",
            "  _warn_prf(average, modifier, msg_start, len(result))\n"
          ]
        }
      ],
      "source": [
        "print(classification_report(y_test, nn_preds_r))"
      ]
    },
    {
      "cell_type": "markdown",
      "metadata": {
        "id": "yoL-LNzrOUtP"
      },
      "source": [
        "After thorough examination, it seems that the neural network isn't able to predict the positive class either. I'll try LGBM again with Colposcopy as the new target."
      ]
    },
    {
      "cell_type": "code",
      "execution_count": null,
      "metadata": {
        "colab": {
          "base_uri": "https://localhost:8080/"
        },
        "id": "95oP7O-ROj1d",
        "outputId": "a0908fa1-d8f8-468d-cc34-c9c59ef47c0d"
      },
      "outputs": [
        {
          "output_type": "execute_result",
          "data": {
            "text/plain": [
              "{'lgbmclassifier': LGBMClassifier(),\n",
              " 'lgbmclassifier__boosting_type': 'gbdt',\n",
              " 'lgbmclassifier__class_weight': None,\n",
              " 'lgbmclassifier__colsample_bytree': 1.0,\n",
              " 'lgbmclassifier__importance_type': 'split',\n",
              " 'lgbmclassifier__learning_rate': 0.1,\n",
              " 'lgbmclassifier__max_depth': -1,\n",
              " 'lgbmclassifier__min_child_samples': 20,\n",
              " 'lgbmclassifier__min_child_weight': 0.001,\n",
              " 'lgbmclassifier__min_split_gain': 0.0,\n",
              " 'lgbmclassifier__n_estimators': 100,\n",
              " 'lgbmclassifier__n_jobs': -1,\n",
              " 'lgbmclassifier__num_leaves': 31,\n",
              " 'lgbmclassifier__objective': None,\n",
              " 'lgbmclassifier__random_state': None,\n",
              " 'lgbmclassifier__reg_alpha': 0.0,\n",
              " 'lgbmclassifier__reg_lambda': 0.0,\n",
              " 'lgbmclassifier__silent': True,\n",
              " 'lgbmclassifier__subsample': 1.0,\n",
              " 'lgbmclassifier__subsample_for_bin': 200000,\n",
              " 'lgbmclassifier__subsample_freq': 0,\n",
              " 'memory': None,\n",
              " 'standardscaler': StandardScaler(),\n",
              " 'standardscaler__copy': True,\n",
              " 'standardscaler__with_mean': True,\n",
              " 'standardscaler__with_std': True,\n",
              " 'steps': [('standardscaler', StandardScaler()),\n",
              "  ('lgbmclassifier', LGBMClassifier())],\n",
              " 'verbose': False}"
            ]
          },
          "metadata": {},
          "execution_count": 86
        }
      ],
      "source": [
        "lgb_pipe.get_params()"
      ]
    },
    {
      "cell_type": "code",
      "execution_count": null,
      "metadata": {
        "id": "M9Y67kbLOvnZ"
      },
      "outputs": [],
      "source": [
        "lgb_params = {'lgbmclassifier__learning_rate':[0.01,0.05,0.1,0.15,0.2,0.3],\n",
        "              'lgbmclassifier__max_depth':[-1,0,1,2,3,5,8],\n",
        "              'lgbmclassifier__min_child_samples':[3,5,10,15,20,30],\n",
        "              'lgbmclassifier__n_estimators':[100,200,300]}"
      ]
    },
    {
      "cell_type": "code",
      "execution_count": null,
      "metadata": {
        "id": "QrDSHbbqOvkw"
      },
      "outputs": [],
      "source": [
        "lgb_grid = GridSearchCV(lgb_pipe,lgb_params)"
      ]
    },
    {
      "cell_type": "code",
      "execution_count": null,
      "metadata": {
        "id": "YF-G9Mx6PovE",
        "colab": {
          "base_uri": "https://localhost:8080/"
        },
        "outputId": "4efc5d6e-cda7-49cc-e848-d35d3520994a"
      },
      "outputs": [
        {
          "output_type": "execute_result",
          "data": {
            "text/plain": [
              "GridSearchCV(estimator=Pipeline(steps=[('standardscaler', StandardScaler()),\n",
              "                                       ('lgbmclassifier', LGBMClassifier())]),\n",
              "             param_grid={'lgbmclassifier__learning_rate': [0.01, 0.05, 0.1,\n",
              "                                                           0.15, 0.2, 0.3],\n",
              "                         'lgbmclassifier__max_depth': [-1, 0, 1, 2, 3, 5, 8],\n",
              "                         'lgbmclassifier__min_child_samples': [3, 5, 10, 15, 20,\n",
              "                                                               30],\n",
              "                         'lgbmclassifier__n_estimators': [100, 200, 300]})"
            ]
          },
          "metadata": {},
          "execution_count": 89
        }
      ],
      "source": [
        "lgb_grid.fit(X_train_eda,y_train)"
      ]
    },
    {
      "cell_type": "code",
      "execution_count": null,
      "metadata": {
        "id": "qm7IJALnRZz1",
        "colab": {
          "base_uri": "https://localhost:8080/"
        },
        "outputId": "8680d45c-c3da-4a4e-9523-2091fa411536"
      },
      "outputs": [
        {
          "output_type": "stream",
          "name": "stdout",
          "text": [
            "{'lgbmclassifier__learning_rate': 0.01, 'lgbmclassifier__max_depth': -1, 'lgbmclassifier__min_child_samples': 5, 'lgbmclassifier__n_estimators': 100}\n"
          ]
        }
      ],
      "source": [
        "print(lgb_grid.best_params_)"
      ]
    },
    {
      "cell_type": "code",
      "execution_count": null,
      "metadata": {
        "id": "gSp3v8I0Rhqj"
      },
      "outputs": [],
      "source": [
        "best_lgb = LGBMClassifier(learning_rate=.01,\n",
        "                          min_child_samples=5,\n",
        "                          n_estimators=100)"
      ]
    },
    {
      "cell_type": "code",
      "execution_count": null,
      "metadata": {
        "id": "e6rShg08R4hP"
      },
      "outputs": [],
      "source": [
        "best_lgb_pipe = make_pipeline(scaler,best_lgb)"
      ]
    },
    {
      "cell_type": "code",
      "execution_count": null,
      "metadata": {
        "colab": {
          "base_uri": "https://localhost:8080/"
        },
        "id": "U0dEfon0SAOk",
        "outputId": "534f5eeb-5f90-446c-b59b-dbe446e9566e"
      },
      "outputs": [
        {
          "output_type": "execute_result",
          "data": {
            "text/plain": [
              "Pipeline(steps=[('standardscaler', StandardScaler()),\n",
              "                ('lgbmclassifier',\n",
              "                 LGBMClassifier(learning_rate=0.01, min_child_samples=5))])"
            ]
          },
          "metadata": {},
          "execution_count": 93
        }
      ],
      "source": [
        "best_lgb_pipe.fit(X_train_eda,y_train)"
      ]
    },
    {
      "cell_type": "code",
      "execution_count": null,
      "metadata": {
        "id": "1iAEzMH2SHxq"
      },
      "outputs": [],
      "source": [
        "best_lgb_preds = best_lgb_pipe.predict(X_test_eda)"
      ]
    },
    {
      "cell_type": "code",
      "execution_count": null,
      "metadata": {
        "colab": {
          "base_uri": "https://localhost:8080/"
        },
        "id": "gJHAdop_SMp_",
        "outputId": "76119718-66ea-4e10-a219-b60cb65d607b"
      },
      "outputs": [
        {
          "output_type": "stream",
          "name": "stdout",
          "text": [
            "              precision    recall  f1-score   support\n",
            "\n",
            "           0       0.96      1.00      0.98       206\n",
            "           1       0.00      0.00      0.00         9\n",
            "\n",
            "    accuracy                           0.96       215\n",
            "   macro avg       0.48      0.50      0.49       215\n",
            "weighted avg       0.92      0.96      0.94       215\n",
            "\n"
          ]
        },
        {
          "output_type": "stream",
          "name": "stderr",
          "text": [
            "/usr/local/lib/python3.7/dist-packages/sklearn/metrics/_classification.py:1318: UndefinedMetricWarning: Precision and F-score are ill-defined and being set to 0.0 in labels with no predicted samples. Use `zero_division` parameter to control this behavior.\n",
            "  _warn_prf(average, modifier, msg_start, len(result))\n",
            "/usr/local/lib/python3.7/dist-packages/sklearn/metrics/_classification.py:1318: UndefinedMetricWarning: Precision and F-score are ill-defined and being set to 0.0 in labels with no predicted samples. Use `zero_division` parameter to control this behavior.\n",
            "  _warn_prf(average, modifier, msg_start, len(result))\n",
            "/usr/local/lib/python3.7/dist-packages/sklearn/metrics/_classification.py:1318: UndefinedMetricWarning: Precision and F-score are ill-defined and being set to 0.0 in labels with no predicted samples. Use `zero_division` parameter to control this behavior.\n",
            "  _warn_prf(average, modifier, msg_start, len(result))\n"
          ]
        }
      ],
      "source": [
        "print(classification_report(y_test,best_lgb_preds))"
      ]
    },
    {
      "cell_type": "markdown",
      "metadata": {
        "id": "cN4nNCVnSW7w"
      },
      "source": [
        "It seems the grid search is not helping my model to find the positive class in the Hinselmann target column, I'll try one more simpler model and then try the other target columns."
      ]
    },
    {
      "cell_type": "code",
      "execution_count": null,
      "metadata": {
        "id": "c_H5PVPDU2tJ",
        "colab": {
          "base_uri": "https://localhost:8080/"
        },
        "outputId": "c10a98a5-fbfa-4bd6-9402-7bcc0eaf1336"
      },
      "outputs": [
        {
          "output_type": "execute_result",
          "data": {
            "text/plain": [
              "{'memory': None,\n",
              " 'randomforestclassifier': RandomForestClassifier(),\n",
              " 'randomforestclassifier__bootstrap': True,\n",
              " 'randomforestclassifier__ccp_alpha': 0.0,\n",
              " 'randomforestclassifier__class_weight': None,\n",
              " 'randomforestclassifier__criterion': 'gini',\n",
              " 'randomforestclassifier__max_depth': None,\n",
              " 'randomforestclassifier__max_features': 'auto',\n",
              " 'randomforestclassifier__max_leaf_nodes': None,\n",
              " 'randomforestclassifier__max_samples': None,\n",
              " 'randomforestclassifier__min_impurity_decrease': 0.0,\n",
              " 'randomforestclassifier__min_samples_leaf': 1,\n",
              " 'randomforestclassifier__min_samples_split': 2,\n",
              " 'randomforestclassifier__min_weight_fraction_leaf': 0.0,\n",
              " 'randomforestclassifier__n_estimators': 100,\n",
              " 'randomforestclassifier__n_jobs': None,\n",
              " 'randomforestclassifier__oob_score': False,\n",
              " 'randomforestclassifier__random_state': None,\n",
              " 'randomforestclassifier__verbose': 0,\n",
              " 'randomforestclassifier__warm_start': False,\n",
              " 'standardscaler': StandardScaler(),\n",
              " 'standardscaler__copy': True,\n",
              " 'standardscaler__with_mean': True,\n",
              " 'standardscaler__with_std': True,\n",
              " 'steps': [('standardscaler', StandardScaler()),\n",
              "  ('randomforestclassifier', RandomForestClassifier())],\n",
              " 'verbose': False}"
            ]
          },
          "metadata": {},
          "execution_count": 96
        }
      ],
      "source": [
        "rf_pipe.get_params()"
      ]
    },
    {
      "cell_type": "code",
      "execution_count": null,
      "metadata": {
        "id": "DfVn3ikj-Wa1"
      },
      "outputs": [],
      "source": [
        "rf_params = {'randomforestclassifier__max_depth':[1,2,3,5,10,20],\n",
        "             'randomforestclassifier__min_samples_leaf':[1,3,5,10,15],\n",
        "             'randomforestclassifier__min_samples_split':[2,3,4,7,10],\n",
        "             'randomforestclassifier__n_estimators':[100,200,300,500],\n",
        "             'randomforestclassifier__max_leaf_nodes':[25,50,200,500]}"
      ]
    },
    {
      "cell_type": "code",
      "execution_count": null,
      "metadata": {
        "id": "4J_J5tG1-ego"
      },
      "outputs": [],
      "source": [
        "rf_grid = GridSearchCV(rf_pipe,rf_params)"
      ]
    },
    {
      "cell_type": "code",
      "execution_count": null,
      "metadata": {
        "id": "IZhyR_Ty-plS",
        "colab": {
          "base_uri": "https://localhost:8080/"
        },
        "outputId": "03fb43bc-8975-4ba5-f842-37380eb19a83"
      },
      "outputs": [
        {
          "output_type": "execute_result",
          "data": {
            "text/plain": [
              "GridSearchCV(estimator=Pipeline(steps=[('standardscaler', StandardScaler()),\n",
              "                                       ('randomforestclassifier',\n",
              "                                        RandomForestClassifier())]),\n",
              "             param_grid={'randomforestclassifier__max_depth': [1, 2, 3, 5, 10,\n",
              "                                                               20],\n",
              "                         'randomforestclassifier__max_leaf_nodes': [25, 50, 200,\n",
              "                                                                    500],\n",
              "                         'randomforestclassifier__min_samples_leaf': [1, 3, 5,\n",
              "                                                                      10, 15],\n",
              "                         'randomforestclassifier__min_samples_split': [2, 3, 4,\n",
              "                                                                       7, 10],\n",
              "                         'randomforestclassifier__n_estimators': [100, 200, 300,\n",
              "                                                                  500]})"
            ]
          },
          "metadata": {},
          "execution_count": 99
        }
      ],
      "source": [
        "rf_grid.fit(X_train_eda,y_train)"
      ]
    },
    {
      "cell_type": "code",
      "execution_count": null,
      "metadata": {
        "id": "p8RLmRIS-uaH",
        "colab": {
          "base_uri": "https://localhost:8080/"
        },
        "outputId": "f9b7f64d-cbd7-49eb-a489-eb12d384c2ae"
      },
      "outputs": [
        {
          "output_type": "stream",
          "name": "stdout",
          "text": [
            "{'randomforestclassifier__max_depth': 1, 'randomforestclassifier__max_leaf_nodes': 25, 'randomforestclassifier__min_samples_leaf': 1, 'randomforestclassifier__min_samples_split': 2, 'randomforestclassifier__n_estimators': 100}\n"
          ]
        }
      ],
      "source": [
        "print(rf_grid.best_params_)"
      ]
    },
    {
      "cell_type": "code",
      "execution_count": null,
      "metadata": {
        "id": "YW1tfZa9-ygZ"
      },
      "outputs": [],
      "source": [
        "best_rf = RandomForestClassifier(max_depth=1, max_leaf_nodes=25, min_samples_split=2, n_estimators=100)"
      ]
    },
    {
      "cell_type": "code",
      "execution_count": null,
      "metadata": {
        "id": "gcMLrK2k-6t7"
      },
      "outputs": [],
      "source": [
        "best_rf_pipe = make_pipeline(scaler,best_rf)"
      ]
    },
    {
      "cell_type": "code",
      "execution_count": null,
      "metadata": {
        "id": "IISFoQTa_BcY",
        "colab": {
          "base_uri": "https://localhost:8080/"
        },
        "outputId": "f5404387-ce55-43ba-d9b5-f671339ede42"
      },
      "outputs": [
        {
          "output_type": "execute_result",
          "data": {
            "text/plain": [
              "Pipeline(steps=[('standardscaler', StandardScaler()),\n",
              "                ('randomforestclassifier',\n",
              "                 RandomForestClassifier(max_depth=1, max_leaf_nodes=25))])"
            ]
          },
          "metadata": {},
          "execution_count": 103
        }
      ],
      "source": [
        "best_rf_pipe.fit(X_train_eda,y_train)"
      ]
    },
    {
      "cell_type": "code",
      "execution_count": null,
      "metadata": {
        "id": "XoyADkTW_FTx"
      },
      "outputs": [],
      "source": [
        "best_rf_preds = best_rf_pipe.predict(X_test_eda)"
      ]
    },
    {
      "cell_type": "code",
      "execution_count": null,
      "metadata": {
        "id": "ZzYFCrwy_Kbx",
        "colab": {
          "base_uri": "https://localhost:8080/"
        },
        "outputId": "0d184d15-21f7-4aeb-e037-3d460b31a785"
      },
      "outputs": [
        {
          "output_type": "stream",
          "name": "stdout",
          "text": [
            "              precision    recall  f1-score   support\n",
            "\n",
            "           0       0.96      1.00      0.98       206\n",
            "           1       0.00      0.00      0.00         9\n",
            "\n",
            "    accuracy                           0.96       215\n",
            "   macro avg       0.48      0.50      0.49       215\n",
            "weighted avg       0.92      0.96      0.94       215\n",
            "\n"
          ]
        },
        {
          "output_type": "stream",
          "name": "stderr",
          "text": [
            "/usr/local/lib/python3.7/dist-packages/sklearn/metrics/_classification.py:1318: UndefinedMetricWarning: Precision and F-score are ill-defined and being set to 0.0 in labels with no predicted samples. Use `zero_division` parameter to control this behavior.\n",
            "  _warn_prf(average, modifier, msg_start, len(result))\n",
            "/usr/local/lib/python3.7/dist-packages/sklearn/metrics/_classification.py:1318: UndefinedMetricWarning: Precision and F-score are ill-defined and being set to 0.0 in labels with no predicted samples. Use `zero_division` parameter to control this behavior.\n",
            "  _warn_prf(average, modifier, msg_start, len(result))\n",
            "/usr/local/lib/python3.7/dist-packages/sklearn/metrics/_classification.py:1318: UndefinedMetricWarning: Precision and F-score are ill-defined and being set to 0.0 in labels with no predicted samples. Use `zero_division` parameter to control this behavior.\n",
            "  _warn_prf(average, modifier, msg_start, len(result))\n"
          ]
        }
      ],
      "source": [
        "print(classification_report(y_test,best_rf_preds))"
      ]
    },
    {
      "cell_type": "markdown",
      "metadata": {
        "id": "2-jLyVbpFuhg"
      },
      "source": [
        "Even with grid search hyperparameter tuning, no model was able to detect positives in the Hinselmann class. I'll continue examining the final target: the Schiller test."
      ]
    },
    {
      "cell_type": "code",
      "execution_count": null,
      "metadata": {
        "id": "4KYtAjb5IoC3"
      },
      "outputs": [],
      "source": [
        "best_rf2 = RandomForestClassifier(min_samples_leaf=1,n_estimators=500)"
      ]
    },
    {
      "cell_type": "code",
      "execution_count": null,
      "metadata": {
        "id": "uqzefBXSJJhK"
      },
      "outputs": [],
      "source": [
        "best_rf_pipe2 = make_pipeline(scaler, best_rf2)"
      ]
    },
    {
      "cell_type": "code",
      "execution_count": null,
      "metadata": {
        "id": "zXabHVUsJOnB",
        "colab": {
          "base_uri": "https://localhost:8080/"
        },
        "outputId": "7cbe14ed-8624-46d3-858e-8215848faf2d"
      },
      "outputs": [
        {
          "output_type": "execute_result",
          "data": {
            "text/plain": [
              "Pipeline(steps=[('standardscaler', StandardScaler()),\n",
              "                ('randomforestclassifier',\n",
              "                 RandomForestClassifier(n_estimators=500))])"
            ]
          },
          "metadata": {},
          "execution_count": 108
        }
      ],
      "source": [
        "best_rf_pipe2.fit(X_train_eda,y_train)"
      ]
    },
    {
      "cell_type": "code",
      "execution_count": null,
      "metadata": {
        "id": "j5N53dpDJTC0"
      },
      "outputs": [],
      "source": [
        "best_rf2_preds = best_rf_pipe2.predict(X_test_eda)"
      ]
    },
    {
      "cell_type": "code",
      "execution_count": null,
      "metadata": {
        "id": "F3B4fEU2JZER",
        "colab": {
          "base_uri": "https://localhost:8080/"
        },
        "outputId": "33af8987-c39c-485e-efe1-e3c61c955677"
      },
      "outputs": [
        {
          "output_type": "stream",
          "name": "stdout",
          "text": [
            "              precision    recall  f1-score   support\n",
            "\n",
            "           0       0.97      0.99      0.98       208\n",
            "           1       0.00      0.00      0.00         7\n",
            "\n",
            "    accuracy                           0.96       215\n",
            "   macro avg       0.48      0.50      0.49       215\n",
            "weighted avg       0.94      0.96      0.95       215\n",
            "\n"
          ]
        }
      ],
      "source": [
        "print(classification_report(y_test, best_rf2_preds))"
      ]
    },
    {
      "cell_type": "markdown",
      "metadata": {
        "id": "fUkQngVTW4Yv"
      },
      "source": [
        "Seeing if some feature engineering helps at all"
      ]
    },
    {
      "cell_type": "code",
      "execution_count": null,
      "metadata": {
        "id": "wGr7KYRoTxoO"
      },
      "outputs": [],
      "source": [
        "pca = PCA()"
      ]
    },
    {
      "cell_type": "code",
      "execution_count": null,
      "metadata": {
        "id": "pzyEEKbPUrKc"
      },
      "outputs": [],
      "source": [
        "X_train_eda_scaled = scaler.fit_transform(X_train_eda)"
      ]
    },
    {
      "cell_type": "code",
      "execution_count": null,
      "metadata": {
        "id": "1cu51c2nT20P",
        "colab": {
          "base_uri": "https://localhost:8080/"
        },
        "outputId": "53136c26-e336-471a-ed9c-f8c3522df7ea"
      },
      "outputs": [
        {
          "output_type": "execute_result",
          "data": {
            "text/plain": [
              "PCA()"
            ]
          },
          "metadata": {},
          "execution_count": 113
        }
      ],
      "source": [
        "pca.fit(X_train_eda_scaled)"
      ]
    },
    {
      "cell_type": "code",
      "execution_count": null,
      "metadata": {
        "id": "Cz5sBlJyU_Kd",
        "colab": {
          "base_uri": "https://localhost:8080/",
          "height": 282
        },
        "outputId": "67fa5367-dd9c-4d94-88e1-dd91ef681ff6"
      },
      "outputs": [
        {
          "output_type": "display_data",
          "data": {
            "text/plain": [
              "<Figure size 432x288 with 1 Axes>"
            ],
            "image/png": "[encoded data removed]"
          },
          "metadata": {
            "needs_background": "light"
          }
        }
      ],
      "source": [
        "plt.plot(range(1,28), pca.explained_variance_ratio_[:27], marker='x')\n",
        "plt.xticks(ticks = range(1,28), rotation=90)\n",
        "plt.xlabel('Principal Component')\n",
        "plt.ylabel('Proportion of Variance Explained');"
      ]
    },
    {
      "cell_type": "code",
      "execution_count": null,
      "metadata": {
        "id": "6jMrjih5VFJv"
      },
      "outputs": [],
      "source": [
        "#it looks like there might be a few good options for how many principle components to include\n",
        "#I will start with 5 and go up from there if 5 features does not seem to be enough"
      ]
    },
    {
      "cell_type": "code",
      "execution_count": null,
      "metadata": {
        "id": "VgFPf5BpV-Pb"
      },
      "outputs": [],
      "source": [
        "X_test_eda_scaled = scaler.fit_transform(X_test_eda)"
      ]
    },
    {
      "cell_type": "code",
      "execution_count": null,
      "metadata": {
        "id": "z_3yNYsIWN1L"
      },
      "outputs": [],
      "source": [
        "pca = PCA(n_components=5)\n",
        "X_train_pca = pca.fit_transform(X_train_eda_scaled)\n",
        "X_test_pca = pca.fit_transform(X_test_eda_scaled)"
      ]
    },
    {
      "cell_type": "code",
      "source": [
        "best_rf.fit(X_train_pca,y_train)"
      ],
      "metadata": {
        "id": "_l3dgJ4T6q4R",
        "colab": {
          "base_uri": "https://localhost:8080/"
        },
        "outputId": "d85376ec-1ee3-4afd-b11f-b6ee078f320a"
      },
      "execution_count": null,
      "outputs": [
        {
          "output_type": "execute_result",
          "data": {
            "text/plain": [
              "RandomForestClassifier()"
            ]
          },
          "metadata": {},
          "execution_count": 118
        }
      ]
    },
    {
      "cell_type": "code",
      "source": [
        "best_rf2_preds_pca = best_rf.predict(X_test_pca)"
      ],
      "metadata": {
        "id": "nfuqMglG65ha"
      },
      "execution_count": null,
      "outputs": []
    },
    {
      "cell_type": "code",
      "source": [
        "print(classification_report(y_test, best_rf2_preds_pca))"
      ],
      "metadata": {
        "id": "DM_ShL3q7BnJ",
        "colab": {
          "base_uri": "https://localhost:8080/"
        },
        "outputId": "d2a896a3-75b3-4263-a505-b3ac7a04a42a"
      },
      "execution_count": null,
      "outputs": [
        {
          "output_type": "stream",
          "name": "stdout",
          "text": [
            "              precision    recall  f1-score   support\n",
            "\n",
            "           0       0.97      1.00      0.98       208\n",
            "           1       0.00      0.00      0.00         7\n",
            "\n",
            "    accuracy                           0.97       215\n",
            "   macro avg       0.48      0.50      0.49       215\n",
            "weighted avg       0.94      0.97      0.95       215\n",
            "\n"
          ]
        },
        {
          "output_type": "stream",
          "name": "stderr",
          "text": [
            "/usr/local/lib/python3.7/dist-packages/sklearn/metrics/_classification.py:1318: UndefinedMetricWarning: Precision and F-score are ill-defined and being set to 0.0 in labels with no predicted samples. Use `zero_division` parameter to control this behavior.\n",
            "  _warn_prf(average, modifier, msg_start, len(result))\n",
            "/usr/local/lib/python3.7/dist-packages/sklearn/metrics/_classification.py:1318: UndefinedMetricWarning: Precision and F-score are ill-defined and being set to 0.0 in labels with no predicted samples. Use `zero_division` parameter to control this behavior.\n",
            "  _warn_prf(average, modifier, msg_start, len(result))\n",
            "/usr/local/lib/python3.7/dist-packages/sklearn/metrics/_classification.py:1318: UndefinedMetricWarning: Precision and F-score are ill-defined and being set to 0.0 in labels with no predicted samples. Use `zero_division` parameter to control this behavior.\n",
            "  _warn_prf(average, modifier, msg_start, len(result))\n"
          ]
        }
      ]
    },
    {
      "cell_type": "markdown",
      "source": [
        "Looks like using 5 features did not improve F1 score."
      ],
      "metadata": {
        "id": "9km48rMwTqd2"
      }
    }
  ],
  "metadata": {
    "colab": {
      "name": "Project 2 Part 10.ipynb",
      "provenance": [],
      "collapsed_sections": [],
      "mount_file_id": "1cRDgwU8COLt7N3pUw2LlRLszZS42O0Dt",
      "authorship_tag": "ABX9TyO1A+YrXSqd7UZfyHLNvJc/",
      "include_colab_link": true
    },
    "kernelspec": {
      "display_name": "Python 3",
      "name": "python3"
    },
    "language_info": {
      "name": "python"
    }
  },
  "nbformat": 4,
  "nbformat_minor": 0
}