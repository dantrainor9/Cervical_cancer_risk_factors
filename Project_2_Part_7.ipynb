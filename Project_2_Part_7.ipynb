{
  "cells": [
    {
      "cell_type": "markdown",
      "metadata": {
        "id": "view-in-github",
        "colab_type": "text"
      },
      "source": [
        "<a href=\"https://colab.research.google.com/github/dantrainor9/Cervical_cancer_risk_factors/blob/main/Project_2_Part_7.ipynb\" target=\"_parent\"><img src=\"https://colab.research.google.com/assets/colab-badge.svg\" alt=\"Open In Colab\"/></a>"
      ]
    },
    {
      "cell_type": "code",
      "execution_count": 1,
      "metadata": {
        "colab": {
          "base_uri": "https://localhost:8080/"
        },
        "id": "sw4jUrv-1kSb",
        "outputId": "80a403d8-85c4-4727-dee7-09fe5109c21f"
      },
      "outputs": [
        {
          "output_type": "stream",
          "name": "stdout",
          "text": [
            "Mounted at /content/drive\n"
          ]
        }
      ],
      "source": [
        "#mounting drive\n",
        "from google.colab import drive\n",
        "drive.mount('/content/drive')"
      ]
    },
    {
      "cell_type": "code",
      "execution_count": null,
      "metadata": {
        "id": "adS4aQuie2Va"
      },
      "outputs": [],
      "source": [
        "#imports\n",
        "import pandas as pd\n",
        "import numpy as np\n",
        "import seaborn as sns\n",
        "import matplotlib.pyplot as plt\n",
        "from sklearn.preprocessing import StandardScaler\n",
        "from sklearn.impute import SimpleImputer\n",
        "from sklearn.model_selection import train_test_split, GridSearchCV\n",
        "from sklearn.pipeline import make_pipeline\n",
        "from sklearn.compose import make_column_transformer\n",
        "from sklearn.decomposition import PCA\n",
        "from xgboost import XGBClassifier\n",
        "from sklearn.ensemble import RandomForestClassifier\n",
        "from lightgbm import LGBMClassifier\n",
        "from sklearn.metrics import accuracy_score, classification_report"
      ]
    },
    {
      "cell_type": "code",
      "execution_count": null,
      "metadata": {
        "id": "ic8SUgQDfwZG"
      },
      "outputs": [],
      "source": [
        "path = '/content/drive/MyDrive/CodingDojo Data Science Bootcamp/07 Week 7 Logistic Regression and Regularization/risk_factors_cervical_cancer.csv'\n",
        "df = pd.read_csv(path)\n",
        "df.head() \n",
        "#checking the first 5 rows in the dataset to make sure it loaded correctly"
      ]
    },
    {
      "cell_type": "code",
      "execution_count": null,
      "metadata": {
        "id": "xs7nmRcshrU1"
      },
      "outputs": [],
      "source": [
        "df.shape"
      ]
    },
    {
      "cell_type": "markdown",
      "metadata": {
        "id": "y-N260jBh2jH"
      },
      "source": [
        "Multiple targets are present in the above dataset gathered from the UCI machine learning repository, as multiple diagnostic tools were used. However, as 'Biopsy' is the most common way of diagnosing cancer in the United States, I will be using that as my primary target after comparing the performance of the different diagnostic tests. \n",
        "This is a classification problem with 32 features.\n",
        "There are 858 rows of data. \n",
        "I anticipate problems with missing data, as participants were not required to answer every question due to the sensitive nature of the survey."
      ]
    },
    {
      "cell_type": "code",
      "execution_count": null,
      "metadata": {
        "id": "zkiTI90lvGpn"
      },
      "outputs": [],
      "source": [
        "df = df.replace('?', np.nan) \n",
        "#replacing question marks in the dataset with np.nan so I can impute using SimpleImputer"
      ]
    },
    {
      "cell_type": "code",
      "execution_count": null,
      "metadata": {
        "id": "CC9JdL6nwkLf"
      },
      "outputs": [],
      "source": [
        "df.isna().sum() \n",
        "#checking for null values"
      ]
    },
    {
      "cell_type": "code",
      "execution_count": null,
      "metadata": {
        "id": "UyoIY6uI1SKP"
      },
      "outputs": [],
      "source": [
        "X = df[['Age', \n",
        "        'Number of sexual partners', \n",
        "        'First sexual intercourse', \n",
        "        'Num of pregnancies', \n",
        "        'Smokes', \n",
        "        'Smokes (years)', \n",
        "        'Smokes (packs/year)', \n",
        "        'Hormonal Contraceptives', \n",
        "        'Hormonal Contraceptives (years)', \n",
        "        'IUD', \n",
        "        'IUD (years)', \n",
        "        'STDs', \n",
        "        'STDs (number)', \n",
        "        'STDs:condylomatosis', \n",
        "        'STDs:vaginal condylomatosis', \n",
        "        'STDs:vulvo-perineal condylomatosis', \n",
        "        'STDs:syphilis', \n",
        "        'STDs:pelvic inflammatory disease', \n",
        "        'STDs:genital herpes', \n",
        "        'STDs:molluscum contagiosum', \n",
        "        'STDs:HIV',  \n",
        "        'STDs:HPV', \n",
        "        'STDs: Number of diagnosis', \n",
        "        'Dx:Cancer', \n",
        "        'Dx:CIN', \n",
        "        'Dx:HPV', \n",
        "        'Dx']]\n",
        "y = df['Biopsy']\n",
        "#excluding 2 columns as features, time since first and last diagnosis of STDs\n",
        "#excluding 3 columns as all participants answered the same, STDs: cervical condylomatosis, hepatitis B, and AIDS"
      ]
    },
    {
      "cell_type": "code",
      "execution_count": null,
      "metadata": {
        "id": "nTV7yJZi2_1z"
      },
      "outputs": [],
      "source": [
        "X_train, X_test, y_train, y_test = train_test_split(X, y, random_state=42)"
      ]
    },
    {
      "cell_type": "code",
      "execution_count": null,
      "metadata": {
        "id": "vOXNxzB5O_J7"
      },
      "outputs": [],
      "source": [
        "X_train"
      ]
    },
    {
      "cell_type": "code",
      "execution_count": null,
      "metadata": {
        "id": "xvoti9l98XuI"
      },
      "outputs": [],
      "source": [
        "mean_impute = SimpleImputer(missing_values=np.nan, strategy='mean')\n",
        "mode_impute = SimpleImputer(missing_values=np.nan, strategy='most_frequent')\n",
        "#building a column transformer for imputing"
      ]
    },
    {
      "cell_type": "code",
      "execution_count": null,
      "metadata": {
        "id": "rTKQQhMxvKvy"
      },
      "outputs": [],
      "source": [
        "mode_list = ['Smokes', 'Hormonal Contraceptives', 'IUD', 'Number of sexual partners', 'Num of pregnancies', 'First sexual intercourse',\n",
        "             'STDs', 'STDs:condylomatosis', 'STDs:vaginal condylomatosis', 'STDs:vulvo-perineal condylomatosis', 'STDs:syphilis', 'STDs:pelvic inflammatory disease', \n",
        "             'STDs:genital herpes', 'STDs:molluscum contagiosum', 'STDs:HIV',  'STDs:HPV']\n",
        "#splitting into different lists based on imputation method"
      ]
    },
    {
      "cell_type": "code",
      "execution_count": null,
      "metadata": {
        "id": "UZrPTBbLvlNu"
      },
      "outputs": [],
      "source": [
        "mean_list = ['Smokes (years)', 'Smokes (packs/year)', 'Hormonal Contraceptives (years)', 'IUD (years)', 'STDs (number)', 'STDs: Number of diagnosis']"
      ]
    },
    {
      "cell_type": "code",
      "execution_count": null,
      "metadata": {
        "id": "PsmtVZ5kwTXF"
      },
      "outputs": [],
      "source": [
        "mode_tuple = (mode_impute, mode_list)\n",
        "mean_tuple = (mean_impute, mean_list)"
      ]
    },
    {
      "cell_type": "code",
      "execution_count": null,
      "metadata": {
        "id": "utceOlkZwyd2"
      },
      "outputs": [],
      "source": [
        "coltrans = make_column_transformer(mode_tuple, mean_tuple, remainder='passthrough')\n",
        "#instantiating column transformer"
      ]
    },
    {
      "cell_type": "code",
      "execution_count": null,
      "metadata": {
        "id": "KwhgoCZ_w5fi"
      },
      "outputs": [],
      "source": [
        "coltrans.fit(X_train)\n",
        "X_train_imp = coltrans.transform(X_train)\n",
        "X_test_imp = coltrans.transform(X_test)\n",
        "#fitting and transforming data"
      ]
    },
    {
      "cell_type": "code",
      "execution_count": null,
      "metadata": {
        "id": "tg8PQKulrMno"
      },
      "outputs": [],
      "source": [
        "X_train_imp"
      ]
    },
    {
      "cell_type": "code",
      "execution_count": null,
      "metadata": {
        "id": "0mCjtMQXxOyN"
      },
      "outputs": [],
      "source": [
        "col_names = ['Smokes', 'Hormonal Contraceptives', 'IUD', 'Number of sexual partners', 'Num of pregnancies', 'First sexual intercourse',\n",
        "             'STDs', 'STDs:condylomatosis', 'STDs:vaginal condylomatosis', 'STDs:vulvo-perineal condylomatosis', 'STDs:syphilis', 'STDs:pelvic inflammatory disease', \n",
        "             'STDs:genital herpes', 'STDs:molluscum contagiosum', 'STDs:HIV',  'STDs:HPV', \n",
        "             'Smokes (years)', 'Smokes (packs/year)', 'Hormonal Contraceptives (years)', 'IUD (years)', 'STDs (number)', 'STDs: Number of diagnosis', 'Age',\n",
        "             'Dx:Cancer', \n",
        "             'Dx:CIN', \n",
        "             'Dx:HPV',\n",
        "             'Dx']\n",
        "#column transformer moved around my columns so they are listed here in the revised order for column name assignment in the next step"
      ]
    },
    {
      "cell_type": "code",
      "execution_count": null,
      "metadata": {
        "id": "m807tuaFzEJw"
      },
      "outputs": [],
      "source": [
        "X_train_eda = pd.DataFrame(X_train_imp, columns=col_names)\n",
        "X_test_eda = pd.DataFrame(X_test_imp, columns=col_names)\n",
        "#reconverting from array to dataframe"
      ]
    },
    {
      "cell_type": "code",
      "execution_count": null,
      "metadata": {
        "id": "uR_EzWD6PDe0"
      },
      "outputs": [],
      "source": [
        "X_train_eda.value_counts()\n",
        "#verifying all my columns are in the right place"
      ]
    },
    {
      "cell_type": "code",
      "execution_count": null,
      "metadata": {
        "id": "nqGERWgDOcNr"
      },
      "outputs": [],
      "source": [
        "X_train_eda.info()\n",
        "#verifying successful imputations of missing values"
      ]
    },
    {
      "cell_type": "code",
      "execution_count": null,
      "metadata": {
        "id": "25sT2oshP33C"
      },
      "outputs": [],
      "source": [
        "X_train_eda = X_train_eda.astype('float')\n",
        "#messy data types, fixing that"
      ]
    },
    {
      "cell_type": "code",
      "execution_count": null,
      "metadata": {
        "id": "Em3gsALLOnEe"
      },
      "outputs": [],
      "source": [
        "X_train_eda.info()"
      ]
    },
    {
      "cell_type": "code",
      "execution_count": null,
      "metadata": {
        "id": "Tcas_Nbqw_dc"
      },
      "outputs": [],
      "source": [
        "X_test_eda = X_test_eda.astype('float')\n",
        "#fixing data types in X_test as well"
      ]
    },
    {
      "cell_type": "code",
      "execution_count": null,
      "metadata": {
        "id": "mC_Gq5Xaw5aQ"
      },
      "outputs": [],
      "source": [
        "X_test_eda.info()"
      ]
    },
    {
      "cell_type": "code",
      "execution_count": null,
      "metadata": {
        "id": "-exy23dYLDRd"
      },
      "outputs": [],
      "source": [
        "plt.hist(X_train_eda['Age'], bins=30, edgecolor='k')\n",
        "plt.title('Age');\n",
        "#looks like an outlier here, at least one much older participant"
      ]
    },
    {
      "cell_type": "code",
      "execution_count": null,
      "metadata": {
        "id": "bmIE38SvOCpZ"
      },
      "outputs": [],
      "source": [
        "plt.hist(X_train_eda['Number of sexual partners'], bins=30, edgecolor='k')\n",
        "plt.title('Number of Sexual Partners')\n",
        "plt.xlabel('Number of Sexual Partners')\n",
        "plt.ylabel('Number of Respondents')\n",
        "plt.tight_layout()\n",
        "plt.savefig('NumberofSexualPartners.png', dpi = 300);\n",
        "#some outliers here as well"
      ]
    },
    {
      "cell_type": "code",
      "execution_count": null,
      "metadata": {
        "id": "GjEtx9vHPYUX"
      },
      "outputs": [],
      "source": [
        "plt.hist(X_train_eda['First sexual intercourse'], bins=20, edgecolor='k')\n",
        "plt.title('Age of First Sexual Intercourse')\n",
        "plt.xlabel('Age (years)')\n",
        "plt.ylabel('Number of Respondents')\n",
        "plt.xticks(rotation=90)\n",
        "plt.tight_layout()\n",
        "plt.savefig('AgeofFirstSexualIntercourse.png', dpi = 300);\n",
        "#fairly normal with a bit of a right skew"
      ]
    },
    {
      "cell_type": "code",
      "execution_count": null,
      "metadata": {
        "id": "Wg0O8N5bQwXY"
      },
      "outputs": [],
      "source": [
        "plt.hist(X_train_eda['Num of pregnancies'], bins=8, edgecolor='k')\n",
        "plt.title('Number of Pregnancies')\n",
        "plt.xlabel('Number of Pregnancies')\n",
        "plt.ylabel('Number of Respondents')\n",
        "plt.tight_layout()\n",
        "plt.savefig('NumberofPregnancies.png', dpi = 300);\n",
        "#right skew here"
      ]
    },
    {
      "cell_type": "code",
      "execution_count": null,
      "metadata": {
        "id": "BrW4sQFtQ6m5"
      },
      "outputs": [],
      "source": [
        "plt.hist(X_train_eda['Smokes'], bins=2, edgecolor='k')\n",
        "plt.title('Smokes');"
      ]
    },
    {
      "cell_type": "code",
      "execution_count": null,
      "metadata": {
        "id": "SjfaR1XqRAhe"
      },
      "outputs": [],
      "source": [
        "plt.hist(X_train_eda['Smokes (years)'], bins=15, edgecolor='k')\n",
        "plt.title('Years of Smoking')\n",
        "plt.xlabel('Years of Smoking')\n",
        "plt.ylabel('Number of Respondents')\n",
        "plt.tight_layout()\n",
        "plt.savefig('YearsofSmoking.png', dpi=300);\n",
        "#right skew, though most of these probably count as outliers as most participants were non-smokers"
      ]
    },
    {
      "cell_type": "code",
      "execution_count": null,
      "metadata": {
        "id": "nGGMvk6nRRd4"
      },
      "outputs": [],
      "source": [
        "plt.hist(X_train_eda['Smokes (packs/year)'], bins=15, edgecolor='k')\n",
        "plt.title('Packs of Cigarettes Smoked per Year');\n",
        "#similar skew to the graph above"
      ]
    },
    {
      "cell_type": "code",
      "execution_count": null,
      "metadata": {
        "id": "ff_WQuRZRcCS"
      },
      "outputs": [],
      "source": [
        "z = X_train_eda['Hormonal Contraceptives'].value_counts()\n",
        "\n",
        "a = list(z.index)\n",
        "b = list(z)\n",
        "\n",
        "plt.figure(figsize=(14,10))\n",
        "plt.bar(a, b, edgecolor='k')\n",
        "plt.title('Hormonal Contraceptives', fontsize=20)\n",
        "plt.xticks(ticks=[0,1], labels=['No History', 'History of Use'], fontsize=16),\n",
        "plt.ylabel('Number of Participants', fontsize=16);\n",
        "#more common for our participants to have taken hormonal contraceptives than not"
      ]
    },
    {
      "cell_type": "code",
      "execution_count": null,
      "metadata": {
        "id": "YReNCtmdRl-S"
      },
      "outputs": [],
      "source": [
        "plt.figure(figsize=(16,12))\n",
        "plt.hist(X_train_eda['Hormonal Contraceptives (years)'], bins=20, edgecolor='k')\n",
        "plt.title('Years of Taking Hormonal Contraceptives', fontsize=20),\n",
        "plt.xlabel('Number of Years', fontsize=16),\n",
        "plt.ylabel('Number of Participants', fontsize=16);\n",
        "#right skew with some outliers"
      ]
    },
    {
      "cell_type": "code",
      "execution_count": null,
      "metadata": {
        "id": "i73KKfYURuQ-"
      },
      "outputs": [],
      "source": [
        "plt.hist(X_train_eda['IUD'], bins=2, edgecolor='k')\n",
        "plt.title('IUD');\n",
        "#IUD is much less common than hormonal contraceptives in our dataset"
      ]
    },
    {
      "cell_type": "code",
      "execution_count": null,
      "metadata": {
        "id": "CUz9d8ZRRuOb"
      },
      "outputs": [],
      "source": [
        "plt.hist(X_train_eda['IUD (years)'], bins=20, edgecolor='k')\n",
        "plt.title('Years with IUD');\n",
        "#with so few IUD users, most on the tail of this skew are likely outliers"
      ]
    },
    {
      "cell_type": "code",
      "execution_count": null,
      "metadata": {
        "id": "PGhkzwRjR_E0"
      },
      "outputs": [],
      "source": [
        "z = X_train_eda['STDs'].value_counts()\n",
        "\n",
        "a = list(z.index)\n",
        "b = list(z)\n",
        "\n",
        "plt.figure(figsize=(16,12))\n",
        "plt.bar(a, b, edgecolor='k')\n",
        "plt.title('STDs', fontsize=20)\n",
        "plt.xticks(ticks=[0,1], labels=['No History of STDs', 'History of STDs'], fontsize=16)\n",
        "plt.ylabel('Number of Participants', fontsize=16);\n",
        "#STDs are uncommon it seems, or at least not commonly admitted to"
      ]
    },
    {
      "cell_type": "code",
      "execution_count": null,
      "metadata": {
        "id": "ptU5jYWvSHOv"
      },
      "outputs": [],
      "source": [
        "plt.hist(X_train_eda['STDs (number)'], bins=5, edgecolor='k')\n",
        "plt.title('Number of STDs');\n",
        "#also more common to disclose fewer than 3"
      ]
    },
    {
      "cell_type": "code",
      "execution_count": null,
      "metadata": {
        "id": "TlfUP5g_Ttp4"
      },
      "outputs": [],
      "source": [
        "plt.hist(X_train_eda['STDs:condylomatosis'], bins=2, edgecolor='k')\n",
        "plt.title('Condylomatosis');"
      ]
    },
    {
      "cell_type": "code",
      "execution_count": null,
      "metadata": {
        "id": "wCQbVpqPUMzu"
      },
      "outputs": [],
      "source": [
        "plt.hist(X_train_eda['STDs:vaginal condylomatosis'], bins=2, edgecolor='k')\n",
        "plt.title('Vaginal Condylomatosis');"
      ]
    },
    {
      "cell_type": "code",
      "execution_count": null,
      "metadata": {
        "id": "RiNQKAWCUZxZ"
      },
      "outputs": [],
      "source": [
        "plt.hist(X_train_eda['STDs:vulvo-perineal condylomatosis'], bins=2, edgecolor='k')\n",
        "plt.title('Vulvo-Perineal Condylomatosis');"
      ]
    },
    {
      "cell_type": "code",
      "execution_count": null,
      "metadata": {
        "id": "WJ2NasIoUiAu"
      },
      "outputs": [],
      "source": [
        "plt.hist(X_train_eda['STDs:syphilis'], bins=2, edgecolor='k')\n",
        "plt.title('Syphilis');"
      ]
    },
    {
      "cell_type": "code",
      "execution_count": null,
      "metadata": {
        "id": "mpvhWNyNUl3F"
      },
      "outputs": [],
      "source": [
        "plt.hist(X_train_eda['STDs:pelvic inflammatory disease'], bins=2, edgecolor='k')\n",
        "plt.title('Pelvic Inflammatory Disease');"
      ]
    },
    {
      "cell_type": "code",
      "execution_count": null,
      "metadata": {
        "id": "Ctt9vYWvUqXM"
      },
      "outputs": [],
      "source": [
        "plt.hist(X_train_eda['STDs:genital herpes'], bins=2, edgecolor='k')\n",
        "plt.title('Genital Herpes');"
      ]
    },
    {
      "cell_type": "code",
      "execution_count": null,
      "metadata": {
        "id": "84D_3iz0Uuqn"
      },
      "outputs": [],
      "source": [
        "plt.hist(X_train_eda['STDs:molluscum contagiosum'], bins=2, edgecolor='k')\n",
        "plt.title('Molluscum Contagiosum');"
      ]
    },
    {
      "cell_type": "code",
      "execution_count": null,
      "metadata": {
        "id": "OOBGG2DSVBLX"
      },
      "outputs": [],
      "source": [
        "plt.hist(X_train_eda['STDs:HIV'], bins=2, edgecolor='k')\n",
        "plt.title('HIV');\n",
        "#still some with HIV, however, this does not necessarily confound their data"
      ]
    },
    {
      "cell_type": "code",
      "execution_count": null,
      "metadata": {
        "id": "iLkFaFiWVRV3"
      },
      "outputs": [],
      "source": [
        "z = X_train_eda['STDs:HPV'].value_counts()\n",
        "\n",
        "a = list(z.index)\n",
        "b = list(z)\n",
        "\n",
        "plt.figure(figsize=(16,12))\n",
        "plt.bar(a, b, edgecolor='k')\n",
        "plt.title('HPV', fontsize=20)\n",
        "plt.xticks(ticks=[0,1], labels=['No History of HPV', 'History of HPV'], fontsize=16)\n",
        "plt.ylabel('Number of Participants', fontsize=16);"
      ]
    },
    {
      "cell_type": "code",
      "execution_count": null,
      "metadata": {
        "id": "zo5bNUmjVUpv"
      },
      "outputs": [],
      "source": [
        "plt.hist(X_train_eda['STDs: Number of diagnosis'], bins=4, edgecolor='k')\n",
        "plt.title('Number of STD diagnoses');\n",
        "#looks like anyone who answered more than 1 is an outlier in this column"
      ]
    },
    {
      "cell_type": "code",
      "execution_count": null,
      "metadata": {
        "id": "m15XNU8SVhgN"
      },
      "outputs": [],
      "source": [
        "plt.hist(X_train_eda['Dx:Cancer'], bins=2, edgecolor='k')\n",
        "plt.title('Diagnosis of Cancer');"
      ]
    },
    {
      "cell_type": "code",
      "execution_count": null,
      "metadata": {
        "id": "zfSEUndVVlPl"
      },
      "outputs": [],
      "source": [
        "plt.hist(X_train_eda['Dx:CIN'], bins=2, edgecolor='k')\n",
        "plt.title('Diagnosis of CIN');"
      ]
    },
    {
      "cell_type": "code",
      "execution_count": null,
      "metadata": {
        "id": "ajMNmMQgVnoJ"
      },
      "outputs": [],
      "source": [
        "plt.hist(X_train_eda['Dx:HPV'], bins=2, edgecolor='k')\n",
        "plt.title('Diagnosis of HPV');"
      ]
    },
    {
      "cell_type": "code",
      "execution_count": null,
      "metadata": {
        "id": "L300U7ogVqL8"
      },
      "outputs": [],
      "source": [
        "plt.hist(X_train_eda['Dx'], bins=2, edgecolor='k')\n",
        "plt.title('Previous Diagnosis');"
      ]
    },
    {
      "cell_type": "code",
      "execution_count": null,
      "metadata": {
        "id": "A1KD-j2RVuNA"
      },
      "outputs": [],
      "source": [
        "plt.hist(y_train, bins=2, edgecolor='k')\n",
        "plt.title('Positive Biopsy (Target Column)');\n",
        "#target column"
      ]
    },
    {
      "cell_type": "code",
      "execution_count": null,
      "metadata": {
        "id": "0LPfaDgzYMiI"
      },
      "outputs": [],
      "source": [
        "X_train_eda['Biopsy'] = y_train\n",
        "#re-adding the target column for checking correlations"
      ]
    },
    {
      "cell_type": "code",
      "execution_count": null,
      "metadata": {
        "id": "xDzk9kCcx1UF"
      },
      "outputs": [],
      "source": [
        "train_corr = X_train_eda.corr()"
      ]
    },
    {
      "cell_type": "code",
      "execution_count": null,
      "metadata": {
        "id": "-za02YrGYRIC"
      },
      "outputs": [],
      "source": [
        "plt.figure(figsize=(25,25))\n",
        "sns.heatmap(data=train_corr, cmap='Greens', annot=True);"
      ]
    },
    {
      "cell_type": "markdown",
      "metadata": {
        "id": "1qrBje91lSJ2"
      },
      "source": [
        "Unfortunately no strong correlations with the Biopsy column. This will make learning harder for whatever model I test."
      ]
    },
    {
      "cell_type": "code",
      "execution_count": null,
      "metadata": {
        "id": "Ddi76_vUQM1d"
      },
      "outputs": [],
      "source": [
        "plt.figure(figsize=(30,30))\n",
        "sns.pairplot(X_train_eda);"
      ]
    },
    {
      "cell_type": "code",
      "execution_count": null,
      "metadata": {
        "id": "IPaEKp-psTLn"
      },
      "outputs": [],
      "source": [
        "X_train_eda = X_train_eda.drop(columns=['Biopsy'])\n",
        "#re-dropping target column"
      ]
    },
    {
      "cell_type": "code",
      "execution_count": null,
      "metadata": {
        "id": "Yb5Yb9Hap_1x"
      },
      "outputs": [],
      "source": [
        "scaler = StandardScaler()\n",
        "#instantiating scaler"
      ]
    },
    {
      "cell_type": "code",
      "execution_count": null,
      "metadata": {
        "id": "8qGW-6FlpN9F"
      },
      "outputs": [],
      "source": [
        "xgb = XGBClassifier()\n",
        "#instantiating xgb model"
      ]
    },
    {
      "cell_type": "code",
      "execution_count": null,
      "metadata": {
        "id": "PeIvq0oppyIc"
      },
      "outputs": [],
      "source": [
        "xgb_pipe = make_pipeline(scaler, xgb)"
      ]
    },
    {
      "cell_type": "code",
      "execution_count": null,
      "metadata": {
        "id": "lgl8CWogqHYt"
      },
      "outputs": [],
      "source": [
        "xgb_pipe.fit(X_train_eda, y_train)"
      ]
    },
    {
      "cell_type": "code",
      "execution_count": null,
      "metadata": {
        "id": "pF1MXrDcu04v"
      },
      "outputs": [],
      "source": [
        "xgb_preds = xgb_pipe.predict(X_test)"
      ]
    },
    {
      "cell_type": "code",
      "execution_count": null,
      "metadata": {
        "id": "wFPBWLaGvgVn"
      },
      "outputs": [],
      "source": [
        "print(classification_report(y_test,xgb_preds))\n",
        "#accuracy is fine, but this model is completely ignoring the positive class\n",
        "#this may be from imbalances in the dataset"
      ]
    },
    {
      "cell_type": "code",
      "execution_count": null,
      "metadata": {
        "id": "AkcNzkhuvmOF"
      },
      "outputs": [],
      "source": [
        "rf = RandomForestClassifier()"
      ]
    },
    {
      "cell_type": "code",
      "execution_count": null,
      "metadata": {
        "id": "POs3yhcYvt0o"
      },
      "outputs": [],
      "source": [
        "rf_pipe = make_pipeline(scaler,rf)"
      ]
    },
    {
      "cell_type": "code",
      "execution_count": null,
      "metadata": {
        "id": "fTaaD6ftvx73"
      },
      "outputs": [],
      "source": [
        "rf_pipe.fit(X_train_eda, y_train)"
      ]
    },
    {
      "cell_type": "code",
      "execution_count": null,
      "metadata": {
        "id": "7FKA8lTXv0k0"
      },
      "outputs": [],
      "source": [
        "rf_preds = rf_pipe.predict(X_test_eda)"
      ]
    },
    {
      "cell_type": "code",
      "execution_count": null,
      "metadata": {
        "id": "IhUmG1Fpxj0j"
      },
      "outputs": [],
      "source": [
        "print(classification_report(y_test,rf_preds))\n",
        "#random forest seems to have performed better than the gradient boosted model so far\n",
        "#I'll try one other gradient boosted model"
      ]
    },
    {
      "cell_type": "code",
      "execution_count": null,
      "metadata": {
        "id": "9vsGjyadxpLb"
      },
      "outputs": [],
      "source": [
        "lgb = LGBMClassifier()"
      ]
    },
    {
      "cell_type": "code",
      "execution_count": null,
      "metadata": {
        "id": "IFyD2t5_yDDT"
      },
      "outputs": [],
      "source": [
        "lgb_pipe = make_pipeline(scaler,lgb)"
      ]
    },
    {
      "cell_type": "code",
      "execution_count": null,
      "metadata": {
        "id": "zZSjdZxEyHBs"
      },
      "outputs": [],
      "source": [
        "lgb_pipe.fit(X_train_eda, y_train)"
      ]
    },
    {
      "cell_type": "code",
      "execution_count": null,
      "metadata": {
        "id": "BhwQ8n5PyNvZ"
      },
      "outputs": [],
      "source": [
        "lgb_preds = lgb_pipe.predict(X_test_eda)"
      ]
    },
    {
      "cell_type": "code",
      "execution_count": null,
      "metadata": {
        "id": "Lq0tCgaIyRPN"
      },
      "outputs": [],
      "source": [
        "print(classification_report(y_test, lgb_preds))\n",
        "#it looks like the 1 class is still having trouble being predicted here.\n",
        "#I'll see if a neural network is any better"
      ]
    },
    {
      "cell_type": "code",
      "execution_count": null,
      "metadata": {
        "id": "X8Nsqr3uU7sS"
      },
      "outputs": [],
      "source": [
        "from tensorflow.keras.models import Sequential\n",
        "from tensorflow.keras.layers import Dense, Dropout\n",
        "from tensorflow.keras.callbacks import EarlyStopping"
      ]
    },
    {
      "cell_type": "code",
      "execution_count": null,
      "metadata": {
        "id": "MavIKYY6WSxr"
      },
      "outputs": [],
      "source": [
        "X_train_scaled = scaler.fit_transform(X_train_eda)\n",
        "X_test_scaled = scaler.transform(X_test_eda)"
      ]
    },
    {
      "cell_type": "code",
      "execution_count": null,
      "metadata": {
        "id": "IcPVRnM8WPOf"
      },
      "outputs": [],
      "source": [
        "model = Sequential()"
      ]
    },
    {
      "cell_type": "code",
      "execution_count": null,
      "metadata": {
        "id": "wkDyrVm3We-j"
      },
      "outputs": [],
      "source": [
        "input_shape = X_train_scaled.shape[1]"
      ]
    },
    {
      "cell_type": "code",
      "execution_count": null,
      "metadata": {
        "id": "CZ2dcXlaagkF"
      },
      "outputs": [],
      "source": [
        "def plot_history(history, metric=None):\n",
        "  fig, axes = plt.subplots(2,1, figsize = (5,10))\n",
        "  axes[0].plot(history.history['loss'], label = \"train\")\n",
        "  axes[0].plot(history.history['val_loss'], label='test')\n",
        "  axes[0].set_title('Loss')\n",
        "  axes[0].legend()\n",
        "  if metric:\n",
        "    axes[1].plot(history.history[metric], label = 'train')\n",
        "    axes[1].plot(history.history['val_' + metric], label = 'test')\n",
        "    axes[1].set_title(metric)\n",
        "    axes[1].legend()\n",
        "\n",
        "  plt.show()"
      ]
    },
    {
      "cell_type": "code",
      "execution_count": null,
      "metadata": {
        "id": "xFTwkAzuYl7z"
      },
      "outputs": [],
      "source": [
        "model.add(Dense(12, activation='relu', input_dim=input_shape))\n",
        "\n",
        "model.add(Dense(10, activation='relu'))\n",
        "\n",
        "model.add(Dense(5, activation='relu'))\n",
        "\n",
        "model.add(Dense(1, activation='sigmoid'))\n",
        "estop = EarlyStopping(patience=10)"
      ]
    },
    {
      "cell_type": "code",
      "execution_count": null,
      "metadata": {
        "id": "zZftzc71ZglE"
      },
      "outputs": [],
      "source": [
        "model.compile(optimizer='adam', loss='bce', metrics='acc')"
      ]
    },
    {
      "cell_type": "code",
      "execution_count": null,
      "metadata": {
        "id": "JtsJQaSKZrh2"
      },
      "outputs": [],
      "source": [
        "history = model.fit(X_train_scaled, y_train,\n",
        "                    validation_data = (X_test_scaled, y_test),\n",
        "                    epochs = 100,\n",
        "                    callbacks=[estop])"
      ]
    },
    {
      "cell_type": "code",
      "execution_count": null,
      "metadata": {
        "id": "vyFj8Fsma7cR"
      },
      "outputs": [],
      "source": [
        "plot_history(history, metric='acc')"
      ]
    },
    {
      "cell_type": "code",
      "execution_count": null,
      "metadata": {
        "id": "waNLdNFgH1VZ"
      },
      "outputs": [],
      "source": [
        "nn_preds = model.predict(X_test_eda)"
      ]
    },
    {
      "cell_type": "code",
      "execution_count": null,
      "metadata": {
        "id": "dpt8Tjalq5EL"
      },
      "outputs": [],
      "source": [
        "nn_preds_r = nn_preds.round()"
      ]
    },
    {
      "cell_type": "code",
      "execution_count": null,
      "metadata": {
        "id": "P2NnTpD8u4Sv"
      },
      "outputs": [],
      "source": [
        "print(classification_report(y_test, nn_preds_r))"
      ]
    },
    {
      "cell_type": "markdown",
      "metadata": {
        "id": "yoL-LNzrOUtP"
      },
      "source": [
        "After thorough examination, it seems that the neural network isn't able to predict the positive class either. I'll revisit the LGBMClassifier to see if that performs better with a gridsearch"
      ]
    },
    {
      "cell_type": "code",
      "execution_count": null,
      "metadata": {
        "id": "95oP7O-ROj1d"
      },
      "outputs": [],
      "source": [
        "lgb_pipe.get_params()"
      ]
    },
    {
      "cell_type": "code",
      "execution_count": null,
      "metadata": {
        "id": "M9Y67kbLOvnZ"
      },
      "outputs": [],
      "source": [
        "lgb_params = {'lgbmclassifier__learning_rate':[0.01,0.05,0.1,0.15,0.2,0.3],\n",
        "              'lgbmclassifier__max_depth':[-1,0,1,2,3,5,8],\n",
        "              'lgbmclassifier__min_child_samples':[3,5,10,15,20,30],\n",
        "              'lgbmclassifier__n_estimators':[100,200,300]}"
      ]
    },
    {
      "cell_type": "code",
      "execution_count": null,
      "metadata": {
        "id": "QrDSHbbqOvkw"
      },
      "outputs": [],
      "source": [
        "lgb_grid = GridSearchCV(lgb_pipe,lgb_params)"
      ]
    },
    {
      "cell_type": "code",
      "execution_count": null,
      "metadata": {
        "id": "YF-G9Mx6PovE"
      },
      "outputs": [],
      "source": [
        "#lgb_grid.fit(X_train_eda,y_train)"
      ]
    },
    {
      "cell_type": "code",
      "execution_count": null,
      "metadata": {
        "id": "qm7IJALnRZz1"
      },
      "outputs": [],
      "source": [
        "#print(lgb_grid.best_params_)"
      ]
    },
    {
      "cell_type": "code",
      "execution_count": null,
      "metadata": {
        "id": "gSp3v8I0Rhqj"
      },
      "outputs": [],
      "source": [
        "best_lgb = LGBMClassifier(learning_rate=.01,\n",
        "                          min_child_samples=5,\n",
        "                          n_estimators=300)"
      ]
    },
    {
      "cell_type": "code",
      "execution_count": null,
      "metadata": {
        "id": "e6rShg08R4hP"
      },
      "outputs": [],
      "source": [
        "best_lgb_pipe = make_pipeline(scaler,best_lgb)"
      ]
    },
    {
      "cell_type": "code",
      "execution_count": null,
      "metadata": {
        "id": "U0dEfon0SAOk"
      },
      "outputs": [],
      "source": [
        "best_lgb_pipe.fit(X_train_eda,y_train)"
      ]
    },
    {
      "cell_type": "code",
      "execution_count": null,
      "metadata": {
        "id": "1iAEzMH2SHxq"
      },
      "outputs": [],
      "source": [
        "best_lgb_preds = best_lgb_pipe.predict(X_test_eda)"
      ]
    },
    {
      "cell_type": "code",
      "execution_count": null,
      "metadata": {
        "id": "gJHAdop_SMp_"
      },
      "outputs": [],
      "source": [
        "print(classification_report(y_test,best_lgb_preds))"
      ]
    },
    {
      "cell_type": "markdown",
      "metadata": {
        "id": "cN4nNCVnSW7w"
      },
      "source": [
        "Slightly better precision for predicting the 1 class, I'll see if random forest does better with hypertuning"
      ]
    },
    {
      "cell_type": "code",
      "execution_count": null,
      "metadata": {
        "id": "c_H5PVPDU2tJ"
      },
      "outputs": [],
      "source": [
        "rf_pipe.get_params()"
      ]
    },
    {
      "cell_type": "code",
      "execution_count": null,
      "metadata": {
        "id": "DfVn3ikj-Wa1"
      },
      "outputs": [],
      "source": [
        "rf_params = {'randomforestclassifier__max_depth':[1,2,3,5,10,20],\n",
        "             'randomforestclassifier__min_samples_leaf':[1,3,5,10,15],\n",
        "             'randomforestclassifier__min_samples_split':[2,3,4,7,10],\n",
        "             'randomforestclassifier__n_estimators':[100,200,300,500],\n",
        "             'randomforestclassifier__max_leaf_nodes':[25,50,200,500]}"
      ]
    },
    {
      "cell_type": "code",
      "execution_count": null,
      "metadata": {
        "id": "4J_J5tG1-ego"
      },
      "outputs": [],
      "source": [
        "#rf_grid = GridSearchCV(rf_pipe,rf_params)"
      ]
    },
    {
      "cell_type": "code",
      "execution_count": null,
      "metadata": {
        "id": "IZhyR_Ty-plS"
      },
      "outputs": [],
      "source": [
        "#rf_grid.fit(X_train_eda,y_train)"
      ]
    },
    {
      "cell_type": "code",
      "execution_count": null,
      "metadata": {
        "id": "p8RLmRIS-uaH"
      },
      "outputs": [],
      "source": [
        "#print(rf_grid.best_params_)"
      ]
    },
    {
      "cell_type": "code",
      "execution_count": null,
      "metadata": {
        "id": "YW1tfZa9-ygZ"
      },
      "outputs": [],
      "source": [
        "best_rf = RandomForestClassifier()"
      ]
    },
    {
      "cell_type": "code",
      "execution_count": null,
      "metadata": {
        "id": "gcMLrK2k-6t7"
      },
      "outputs": [],
      "source": [
        "best_rf_pipe = make_pipeline(scaler,best_rf)"
      ]
    },
    {
      "cell_type": "code",
      "execution_count": null,
      "metadata": {
        "id": "IISFoQTa_BcY"
      },
      "outputs": [],
      "source": [
        "best_rf_pipe.fit(X_train_eda,y_train)"
      ]
    },
    {
      "cell_type": "code",
      "execution_count": null,
      "metadata": {
        "id": "XoyADkTW_FTx"
      },
      "outputs": [],
      "source": [
        "best_rf_preds = best_rf_pipe.predict(X_test_eda)"
      ]
    },
    {
      "cell_type": "code",
      "execution_count": null,
      "metadata": {
        "id": "ZzYFCrwy_Kbx"
      },
      "outputs": [],
      "source": [
        "print(classification_report(y_test,best_rf_preds))"
      ]
    },
    {
      "cell_type": "markdown",
      "metadata": {
        "id": "2-jLyVbpFuhg"
      },
      "source": [
        "It looks like the non-optimized RandomForestClassifier produced the best accuracy. However, GridSearchCV does not determine best_params based on precision and recall together, so I'll try some manual hypertuning."
      ]
    },
    {
      "cell_type": "code",
      "execution_count": null,
      "metadata": {
        "id": "4KYtAjb5IoC3"
      },
      "outputs": [],
      "source": [
        "best_rf2 = RandomForestClassifier(min_samples_leaf=1,n_estimators=500)"
      ]
    },
    {
      "cell_type": "code",
      "execution_count": null,
      "metadata": {
        "id": "uqzefBXSJJhK"
      },
      "outputs": [],
      "source": [
        "best_rf_pipe2 = make_pipeline(scaler, best_rf2)"
      ]
    },
    {
      "cell_type": "code",
      "execution_count": null,
      "metadata": {
        "id": "zXabHVUsJOnB"
      },
      "outputs": [],
      "source": [
        "best_rf_pipe2.fit(X_train_eda,y_train)"
      ]
    },
    {
      "cell_type": "code",
      "execution_count": null,
      "metadata": {
        "id": "j5N53dpDJTC0"
      },
      "outputs": [],
      "source": [
        "best_rf2_preds = best_rf_pipe2.predict(X_test_eda)"
      ]
    },
    {
      "cell_type": "code",
      "execution_count": null,
      "metadata": {
        "id": "F3B4fEU2JZER"
      },
      "outputs": [],
      "source": [
        "print(classification_report(y_test, best_rf2_preds))"
      ]
    },
    {
      "cell_type": "markdown",
      "metadata": {
        "id": "fUkQngVTW4Yv"
      },
      "source": [
        "Seeing if some feature engineering helps at all"
      ]
    },
    {
      "cell_type": "code",
      "execution_count": null,
      "metadata": {
        "id": "wGr7KYRoTxoO"
      },
      "outputs": [],
      "source": [
        "pca = PCA()"
      ]
    },
    {
      "cell_type": "code",
      "execution_count": null,
      "metadata": {
        "id": "pzyEEKbPUrKc"
      },
      "outputs": [],
      "source": [
        "X_train_eda_scaled = scaler.fit_transform(X_train_eda)"
      ]
    },
    {
      "cell_type": "code",
      "execution_count": null,
      "metadata": {
        "id": "1cu51c2nT20P"
      },
      "outputs": [],
      "source": [
        "pca.fit(X_train_eda_scaled)"
      ]
    },
    {
      "cell_type": "code",
      "execution_count": null,
      "metadata": {
        "id": "Cz5sBlJyU_Kd"
      },
      "outputs": [],
      "source": [
        "plt.plot(range(1,28), pca.explained_variance_ratio_[:27], marker='x')\n",
        "plt.xticks(ticks = range(1,28), rotation=90)\n",
        "plt.xlabel('Principal Component')\n",
        "plt.ylabel('Proportion of Variance Explained');"
      ]
    },
    {
      "cell_type": "code",
      "execution_count": null,
      "metadata": {
        "id": "6jMrjih5VFJv"
      },
      "outputs": [],
      "source": [
        "#it looks like there might be a few good options for how many principle components to include\n",
        "#I will start with 5 and go up from there if 5 features does not seem to be enough"
      ]
    },
    {
      "cell_type": "code",
      "execution_count": null,
      "metadata": {
        "id": "VgFPf5BpV-Pb"
      },
      "outputs": [],
      "source": [
        "X_test_eda_scaled = scaler.fit_transform(X_test_eda)"
      ]
    },
    {
      "cell_type": "code",
      "execution_count": null,
      "metadata": {
        "id": "z_3yNYsIWN1L"
      },
      "outputs": [],
      "source": [
        "pca = PCA(n_components=5)\n",
        "X_train_pca = pca.fit_transform(X_train_eda_scaled)\n",
        "X_test_pca = pca.fit_transform(X_test_eda_scaled)"
      ]
    },
    {
      "cell_type": "code",
      "source": [
        "best_rf2.fit(X_train_pca,y_train)"
      ],
      "metadata": {
        "id": "_l3dgJ4T6q4R"
      },
      "execution_count": null,
      "outputs": []
    },
    {
      "cell_type": "code",
      "source": [
        "best_rf2_preds_pca = best_rf2.predict(X_test_pca)"
      ],
      "metadata": {
        "id": "nfuqMglG65ha"
      },
      "execution_count": null,
      "outputs": []
    },
    {
      "cell_type": "code",
      "source": [
        "print(classification_report(y_test, best_rf2_preds_pca))"
      ],
      "metadata": {
        "id": "DM_ShL3q7BnJ"
      },
      "execution_count": null,
      "outputs": []
    },
    {
      "cell_type": "markdown",
      "source": [
        "Looks like 5 features isn't quite enough. I'll try PCA from the next \"elbow\" in the line plot above."
      ],
      "metadata": {
        "id": "9km48rMwTqd2"
      }
    },
    {
      "cell_type": "code",
      "source": [
        "pca2=PCA(n_components=9)\n",
        "X_train_pca2 = pca2.fit_transform(X_train_eda_scaled)\n",
        "X_test_pca2 = pca2.fit_transform(X_test_eda_scaled)"
      ],
      "metadata": {
        "id": "Q90AcsZAzZa1"
      },
      "execution_count": null,
      "outputs": []
    },
    {
      "cell_type": "code",
      "source": [
        "best_rf2.fit(X_train_pca2,y_train)"
      ],
      "metadata": {
        "id": "2_qWlIrQzpJD"
      },
      "execution_count": null,
      "outputs": []
    },
    {
      "cell_type": "code",
      "source": [
        "best_rf2_preds_pca2=best_rf2.predict(X_train_pca2)"
      ],
      "metadata": {
        "id": "Nn9hRDUrzuYD"
      },
      "execution_count": null,
      "outputs": []
    },
    {
      "cell_type": "code",
      "source": [
        "print(classification_report(best_rf2_preds_pca2,y_test))"
      ],
      "metadata": {
        "id": "IfzugeWCz2Uj"
      },
      "execution_count": null,
      "outputs": []
    }
  ],
  "metadata": {
    "colab": {
      "name": "Project 2 Part 7.ipynb",
      "provenance": [],
      "mount_file_id": "1cRDgwU8COLt7N3pUw2LlRLszZS42O0Dt",
      "authorship_tag": "ABX9TyM8Zo7y2I4nn+CwS0DOAP1O",
      "include_colab_link": true
    },
    "kernelspec": {
      "display_name": "Python 3",
      "name": "python3"
    },
    "language_info": {
      "name": "python"
    }
  },
  "nbformat": 4,
  "nbformat_minor": 0
}